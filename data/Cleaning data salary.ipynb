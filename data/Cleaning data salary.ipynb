{
 "cells": [
  {
   "cell_type": "markdown",
   "id": "b12655a5-d81c-4b78-8a00-38b09835965b",
   "metadata": {},
   "source": [
    "## Cleaning a messy data\n",
    "https://oscarbaruffa.com/messy/"
   ]
  },
  {
   "cell_type": "markdown",
   "id": "3cf1ffe1-4d71-4b47-8f31-3379839e0aed",
   "metadata": {},
   "source": [
    "## IMPORT LIBRARIES"
   ]
  },
  {
   "cell_type": "code",
   "execution_count": 1,
   "id": "393249a1-6c47-4729-ba8a-ae9f4779a6a7",
   "metadata": {},
   "outputs": [
    {
     "name": "stdout",
     "output_type": "stream",
     "text": [
      "Defaulting to user installation because normal site-packages is not writeable\n",
      "Looking in links: /usr/share/pip-wheels\n",
      "Requirement already satisfied: fuzzywuzzy in ./.local/lib/python3.11/site-packages (0.18.0)\n",
      "Defaulting to user installation because normal site-packages is not writeable\n",
      "Looking in links: /usr/share/pip-wheels\n",
      "Requirement already satisfied: python-Levenshtein in ./.local/lib/python3.11/site-packages (0.27.1)\n",
      "Requirement already satisfied: Levenshtein==0.27.1 in ./.local/lib/python3.11/site-packages (from python-Levenshtein) (0.27.1)\n",
      "Requirement already satisfied: rapidfuzz<4.0.0,>=3.9.0 in ./.local/lib/python3.11/site-packages (from Levenshtein==0.27.1->python-Levenshtein) (3.13.0)\n",
      "Defaulting to user installation because normal site-packages is not writeable\n",
      "Looking in links: /usr/share/pip-wheels\n",
      "Requirement already satisfied: pycountry in ./.local/lib/python3.11/site-packages (24.6.1)\n",
      "Defaulting to user installation because normal site-packages is not writeable\n",
      "Looking in links: /usr/share/pip-wheels\n",
      "Requirement already satisfied: emoji in ./.local/lib/python3.11/site-packages (2.14.1)\n"
     ]
    }
   ],
   "source": [
    "!pip install fuzzywuzzy\n",
    "!pip install python-Levenshtein\n",
    "!pip install pycountry\n",
    "!pip install emoji"
   ]
  },
  {
   "cell_type": "code",
   "execution_count": 2,
   "id": "d1eb4cbd-77f6-4a3a-b3ff-220d485a42ac",
   "metadata": {},
   "outputs": [],
   "source": [
    "import pandas as pd\n",
    "import numpy as np\n",
    "from fuzzywuzzy import process\n",
    "import pycountry\n",
    "import re\n",
    "import emoji"
   ]
  },
  {
   "cell_type": "markdown",
   "id": "5f4cdd8f-5212-4fbd-a6d8-5a6e1c912880",
   "metadata": {},
   "source": [
    "## READING AND ACCESSING DATA"
   ]
  },
  {
   "cell_type": "code",
   "execution_count": 3,
   "id": "dd8ea499-438a-4cfd-9dd9-22c7e213aa75",
   "metadata": {},
   "outputs": [
    {
     "data": {
      "text/html": [
       "<div>\n",
       "<style scoped>\n",
       "    .dataframe tbody tr th:only-of-type {\n",
       "        vertical-align: middle;\n",
       "    }\n",
       "\n",
       "    .dataframe tbody tr th {\n",
       "        vertical-align: top;\n",
       "    }\n",
       "\n",
       "    .dataframe thead th {\n",
       "        text-align: right;\n",
       "    }\n",
       "</style>\n",
       "<table border=\"1\" class=\"dataframe\">\n",
       "  <thead>\n",
       "    <tr style=\"text-align: right;\">\n",
       "      <th></th>\n",
       "      <th>Timestamp</th>\n",
       "      <th>How old are you?</th>\n",
       "      <th>What industry do you work in?</th>\n",
       "      <th>Job title</th>\n",
       "      <th>If your job title needs additional context, please clarify here:</th>\n",
       "      <th>What is your annual salary? (You'll indicate the currency in a later question. If you are part-time or hourly, please enter an annualized equivalent -- what you would earn if you worked the job 40 hours a week, 52 weeks a year.)</th>\n",
       "      <th>How much additional monetary compensation do you get, if any (for example, bonuses or overtime in an average year)? Please only include monetary compensation here, not the value of benefits.</th>\n",
       "      <th>Please indicate the currency</th>\n",
       "      <th>If \"Other,\" please indicate the currency here:</th>\n",
       "      <th>If your income needs additional context, please provide it here:</th>\n",
       "      <th>What country do you work in?</th>\n",
       "      <th>If you're in the U.S., what state do you work in?</th>\n",
       "      <th>What city do you work in?</th>\n",
       "      <th>How many years of professional work experience do you have overall?</th>\n",
       "      <th>How many years of professional work experience do you have in your field?</th>\n",
       "      <th>What is your highest level of education completed?</th>\n",
       "      <th>What is your gender?</th>\n",
       "      <th>What is your race? (Choose all that apply.)</th>\n",
       "    </tr>\n",
       "  </thead>\n",
       "  <tbody>\n",
       "    <tr>\n",
       "      <th>0</th>\n",
       "      <td>4/27/2021 11:02:10</td>\n",
       "      <td>25-34</td>\n",
       "      <td>Education (Higher Education)</td>\n",
       "      <td>Research and Instruction Librarian</td>\n",
       "      <td>NaN</td>\n",
       "      <td>55,000</td>\n",
       "      <td>0.0</td>\n",
       "      <td>USD</td>\n",
       "      <td>NaN</td>\n",
       "      <td>NaN</td>\n",
       "      <td>United States</td>\n",
       "      <td>Massachusetts</td>\n",
       "      <td>Boston</td>\n",
       "      <td>5-7 years</td>\n",
       "      <td>5-7 years</td>\n",
       "      <td>Master's degree</td>\n",
       "      <td>Woman</td>\n",
       "      <td>White</td>\n",
       "    </tr>\n",
       "    <tr>\n",
       "      <th>1</th>\n",
       "      <td>4/27/2021 11:02:22</td>\n",
       "      <td>25-34</td>\n",
       "      <td>Computing or Tech</td>\n",
       "      <td>Change &amp; Internal Communications Manager</td>\n",
       "      <td>NaN</td>\n",
       "      <td>54,600</td>\n",
       "      <td>4000.0</td>\n",
       "      <td>GBP</td>\n",
       "      <td>NaN</td>\n",
       "      <td>NaN</td>\n",
       "      <td>United Kingdom</td>\n",
       "      <td>NaN</td>\n",
       "      <td>Cambridge</td>\n",
       "      <td>8 - 10 years</td>\n",
       "      <td>5-7 years</td>\n",
       "      <td>College degree</td>\n",
       "      <td>Non-binary</td>\n",
       "      <td>White</td>\n",
       "    </tr>\n",
       "    <tr>\n",
       "      <th>2</th>\n",
       "      <td>4/27/2021 11:02:38</td>\n",
       "      <td>25-34</td>\n",
       "      <td>Accounting, Banking &amp; Finance</td>\n",
       "      <td>Marketing Specialist</td>\n",
       "      <td>NaN</td>\n",
       "      <td>34,000</td>\n",
       "      <td>NaN</td>\n",
       "      <td>USD</td>\n",
       "      <td>NaN</td>\n",
       "      <td>NaN</td>\n",
       "      <td>US</td>\n",
       "      <td>Tennessee</td>\n",
       "      <td>Chattanooga</td>\n",
       "      <td>2 - 4 years</td>\n",
       "      <td>2 - 4 years</td>\n",
       "      <td>College degree</td>\n",
       "      <td>Woman</td>\n",
       "      <td>White</td>\n",
       "    </tr>\n",
       "    <tr>\n",
       "      <th>3</th>\n",
       "      <td>4/27/2021 11:02:41</td>\n",
       "      <td>25-34</td>\n",
       "      <td>Nonprofits</td>\n",
       "      <td>Program Manager</td>\n",
       "      <td>NaN</td>\n",
       "      <td>62,000</td>\n",
       "      <td>3000.0</td>\n",
       "      <td>USD</td>\n",
       "      <td>NaN</td>\n",
       "      <td>NaN</td>\n",
       "      <td>USA</td>\n",
       "      <td>Wisconsin</td>\n",
       "      <td>Milwaukee</td>\n",
       "      <td>8 - 10 years</td>\n",
       "      <td>5-7 years</td>\n",
       "      <td>College degree</td>\n",
       "      <td>Woman</td>\n",
       "      <td>White</td>\n",
       "    </tr>\n",
       "    <tr>\n",
       "      <th>4</th>\n",
       "      <td>4/27/2021 11:02:42</td>\n",
       "      <td>25-34</td>\n",
       "      <td>Accounting, Banking &amp; Finance</td>\n",
       "      <td>Accounting Manager</td>\n",
       "      <td>NaN</td>\n",
       "      <td>60,000</td>\n",
       "      <td>7000.0</td>\n",
       "      <td>USD</td>\n",
       "      <td>NaN</td>\n",
       "      <td>NaN</td>\n",
       "      <td>US</td>\n",
       "      <td>South Carolina</td>\n",
       "      <td>Greenville</td>\n",
       "      <td>8 - 10 years</td>\n",
       "      <td>5-7 years</td>\n",
       "      <td>College degree</td>\n",
       "      <td>Woman</td>\n",
       "      <td>White</td>\n",
       "    </tr>\n",
       "  </tbody>\n",
       "</table>\n",
       "</div>"
      ],
      "text/plain": [
       "            Timestamp How old are you?  What industry do you work in?  \\\n",
       "0  4/27/2021 11:02:10            25-34   Education (Higher Education)   \n",
       "1  4/27/2021 11:02:22            25-34              Computing or Tech   \n",
       "2  4/27/2021 11:02:38            25-34  Accounting, Banking & Finance   \n",
       "3  4/27/2021 11:02:41            25-34                     Nonprofits   \n",
       "4  4/27/2021 11:02:42            25-34  Accounting, Banking & Finance   \n",
       "\n",
       "                                  Job title  \\\n",
       "0        Research and Instruction Librarian   \n",
       "1  Change & Internal Communications Manager   \n",
       "2                      Marketing Specialist   \n",
       "3                           Program Manager   \n",
       "4                        Accounting Manager   \n",
       "\n",
       "  If your job title needs additional context, please clarify here:  \\\n",
       "0                                                NaN                 \n",
       "1                                                NaN                 \n",
       "2                                                NaN                 \n",
       "3                                                NaN                 \n",
       "4                                                NaN                 \n",
       "\n",
       "  What is your annual salary? (You'll indicate the currency in a later question. If you are part-time or hourly, please enter an annualized equivalent -- what you would earn if you worked the job 40 hours a week, 52 weeks a year.)  \\\n",
       "0                                             55,000                                                                                                                                                                                     \n",
       "1                                             54,600                                                                                                                                                                                     \n",
       "2                                             34,000                                                                                                                                                                                     \n",
       "3                                             62,000                                                                                                                                                                                     \n",
       "4                                             60,000                                                                                                                                                                                     \n",
       "\n",
       "   How much additional monetary compensation do you get, if any (for example, bonuses or overtime in an average year)? Please only include monetary compensation here, not the value of benefits.  \\\n",
       "0                                                0.0                                                                                                                                                \n",
       "1                                             4000.0                                                                                                                                                \n",
       "2                                                NaN                                                                                                                                                \n",
       "3                                             3000.0                                                                                                                                                \n",
       "4                                             7000.0                                                                                                                                                \n",
       "\n",
       "  Please indicate the currency  \\\n",
       "0                          USD   \n",
       "1                          GBP   \n",
       "2                          USD   \n",
       "3                          USD   \n",
       "4                          USD   \n",
       "\n",
       "  If \"Other,\" please indicate the currency here:   \\\n",
       "0                                             NaN   \n",
       "1                                             NaN   \n",
       "2                                             NaN   \n",
       "3                                             NaN   \n",
       "4                                             NaN   \n",
       "\n",
       "  If your income needs additional context, please provide it here:  \\\n",
       "0                                                NaN                 \n",
       "1                                                NaN                 \n",
       "2                                                NaN                 \n",
       "3                                                NaN                 \n",
       "4                                                NaN                 \n",
       "\n",
       "  What country do you work in?  \\\n",
       "0                United States   \n",
       "1               United Kingdom   \n",
       "2                           US   \n",
       "3                          USA   \n",
       "4                           US   \n",
       "\n",
       "  If you're in the U.S., what state do you work in? What city do you work in?  \\\n",
       "0                                     Massachusetts                    Boston   \n",
       "1                                               NaN                 Cambridge   \n",
       "2                                         Tennessee               Chattanooga   \n",
       "3                                         Wisconsin                 Milwaukee   \n",
       "4                                    South Carolina                Greenville   \n",
       "\n",
       "  How many years of professional work experience do you have overall?  \\\n",
       "0                                          5-7 years                    \n",
       "1                                       8 - 10 years                    \n",
       "2                                        2 - 4 years                    \n",
       "3                                       8 - 10 years                    \n",
       "4                                       8 - 10 years                    \n",
       "\n",
       "  How many years of professional work experience do you have in your field?  \\\n",
       "0                                          5-7 years                          \n",
       "1                                          5-7 years                          \n",
       "2                                        2 - 4 years                          \n",
       "3                                          5-7 years                          \n",
       "4                                          5-7 years                          \n",
       "\n",
       "  What is your highest level of education completed? What is your gender?  \\\n",
       "0                                    Master's degree                Woman   \n",
       "1                                     College degree           Non-binary   \n",
       "2                                     College degree                Woman   \n",
       "3                                     College degree                Woman   \n",
       "4                                     College degree                Woman   \n",
       "\n",
       "  What is your race? (Choose all that apply.)  \n",
       "0                                       White  \n",
       "1                                       White  \n",
       "2                                       White  \n",
       "3                                       White  \n",
       "4                                       White  "
      ]
     },
     "execution_count": 3,
     "metadata": {},
     "output_type": "execute_result"
    }
   ],
   "source": [
    "# Google Sheets CSV link\n",
    "url = \"https://docs.google.com/spreadsheets/d/1IPS5dBSGtwYVbjsfbaMCYIWnOuRmJcbequohNxCyGVw/export?format=csv&gid=1625408792\"\n",
    "\n",
    "# Load into DataFrame\n",
    "df = pd.read_csv(url)\n",
    "\n",
    "df.head()"
   ]
  },
  {
   "cell_type": "markdown",
   "id": "99d935f1-fbfd-4175-9bed-8f73ff37808f",
   "metadata": {},
   "source": [
    "## FIX HEADERS (IF NEEDED)"
   ]
  },
  {
   "cell_type": "code",
   "execution_count": 4,
   "id": "e0305b47-a435-48ef-9be3-0d7eb5b5ee41",
   "metadata": {},
   "outputs": [],
   "source": [
    "# Simplify column names\n",
    "df = df.rename(columns={\n",
    "    \"What is your annual salary? (You'll indicate the currency in a later question. If you are part-time or hourly, please enter an annualized equivalent -- what you would earn if you worked the job 40 hours a week, 52 weeks a year.)\": \"annual_salary\"\n",
    "})"
   ]
  },
  {
   "cell_type": "code",
   "execution_count": 5,
   "id": "3e92f0f0-2de5-41d6-9f57-54b62b75ad01",
   "metadata": {},
   "outputs": [],
   "source": [
    "df = df.rename(columns={\n",
    "    \"How old are you?\": \"age\"\n",
    "})"
   ]
  },
  {
   "cell_type": "code",
   "execution_count": 6,
   "id": "2f98765f-a1bc-44ef-9a43-32b36f92fd01",
   "metadata": {},
   "outputs": [],
   "source": [
    "df = df.rename(columns={\n",
    "    \"How much additional monetary compensation do you get, if any (for example, bonuses or overtime in an average year)? Please only include monetary compensation here, not the value of benefits.\": \"bonus\"\n",
    "})"
   ]
  },
  {
   "cell_type": "code",
   "execution_count": 7,
   "id": "ac3298cd-b35b-42b9-b6c8-63bf16d4cee6",
   "metadata": {},
   "outputs": [],
   "source": [
    "df = df.rename(columns={\n",
    "    \"Please indicate the currency\": \"currency\"\n",
    "})"
   ]
  },
  {
   "cell_type": "code",
   "execution_count": 8,
   "id": "2370fdd9-cb05-4b20-a239-25866eb68de6",
   "metadata": {},
   "outputs": [],
   "source": [
    "df = df.rename(columns={\n",
    "    \"What country do you work in?\": \"country\"\n",
    "})"
   ]
  },
  {
   "cell_type": "code",
   "execution_count": 9,
   "id": "8dcc933f-743d-44b7-9184-d90a18483a26",
   "metadata": {},
   "outputs": [],
   "source": [
    "df = df.rename(columns={\n",
    "    \"How many years of professional work experience do you have overall?\": \"years_working\"\n",
    "})"
   ]
  },
  {
   "cell_type": "code",
   "execution_count": 10,
   "id": "fa985074-b5bb-4d94-8a2f-96ff0dce3c31",
   "metadata": {},
   "outputs": [],
   "source": [
    "df = df.rename(columns={\n",
    "    \"What is your highest level of education completed?\": \"education\"\n",
    "})"
   ]
  },
  {
   "cell_type": "code",
   "execution_count": 11,
   "id": "14d0fb82-4e71-4dcd-8fd4-d0b90630a701",
   "metadata": {},
   "outputs": [],
   "source": [
    "df = df.rename(columns={\n",
    "    \"What is your gender?\": \"gender\"\n",
    "})"
   ]
  },
  {
   "cell_type": "code",
   "execution_count": 12,
   "id": "7de35362-56b1-4d68-b8fa-abe6aa9f00ca",
   "metadata": {},
   "outputs": [],
   "source": [
    "df = df.rename(columns={\n",
    "    \"What is your race? (Choose all that apply.)\": \"race\"\n",
    "})"
   ]
  },
  {
   "cell_type": "code",
   "execution_count": 13,
   "id": "86508149-63cd-4b6c-9c0e-801d2b90ad57",
   "metadata": {},
   "outputs": [],
   "source": [
    "df = df.rename(columns={\n",
    "    \"How many years of professional work experience do you have in your field?\": \"years_in_your_field\"\n",
    "})"
   ]
  },
  {
   "cell_type": "code",
   "execution_count": 14,
   "id": "371c3631-d35d-48cd-8faa-3b66d6d5f9a1",
   "metadata": {},
   "outputs": [
    {
     "data": {
      "text/html": [
       "<div>\n",
       "<style scoped>\n",
       "    .dataframe tbody tr th:only-of-type {\n",
       "        vertical-align: middle;\n",
       "    }\n",
       "\n",
       "    .dataframe tbody tr th {\n",
       "        vertical-align: top;\n",
       "    }\n",
       "\n",
       "    .dataframe thead th {\n",
       "        text-align: right;\n",
       "    }\n",
       "</style>\n",
       "<table border=\"1\" class=\"dataframe\">\n",
       "  <thead>\n",
       "    <tr style=\"text-align: right;\">\n",
       "      <th></th>\n",
       "      <th>Timestamp</th>\n",
       "      <th>age</th>\n",
       "      <th>What industry do you work in?</th>\n",
       "      <th>Job title</th>\n",
       "      <th>If your job title needs additional context, please clarify here:</th>\n",
       "      <th>annual_salary</th>\n",
       "      <th>bonus</th>\n",
       "      <th>currency</th>\n",
       "      <th>If \"Other,\" please indicate the currency here:</th>\n",
       "      <th>If your income needs additional context, please provide it here:</th>\n",
       "      <th>country</th>\n",
       "      <th>If you're in the U.S., what state do you work in?</th>\n",
       "      <th>What city do you work in?</th>\n",
       "      <th>years_working</th>\n",
       "      <th>years_in_your_field</th>\n",
       "      <th>education</th>\n",
       "      <th>gender</th>\n",
       "      <th>race</th>\n",
       "    </tr>\n",
       "  </thead>\n",
       "  <tbody>\n",
       "    <tr>\n",
       "      <th>0</th>\n",
       "      <td>4/27/2021 11:02:10</td>\n",
       "      <td>25-34</td>\n",
       "      <td>Education (Higher Education)</td>\n",
       "      <td>Research and Instruction Librarian</td>\n",
       "      <td>NaN</td>\n",
       "      <td>55,000</td>\n",
       "      <td>0.0</td>\n",
       "      <td>USD</td>\n",
       "      <td>NaN</td>\n",
       "      <td>NaN</td>\n",
       "      <td>United States</td>\n",
       "      <td>Massachusetts</td>\n",
       "      <td>Boston</td>\n",
       "      <td>5-7 years</td>\n",
       "      <td>5-7 years</td>\n",
       "      <td>Master's degree</td>\n",
       "      <td>Woman</td>\n",
       "      <td>White</td>\n",
       "    </tr>\n",
       "    <tr>\n",
       "      <th>1</th>\n",
       "      <td>4/27/2021 11:02:22</td>\n",
       "      <td>25-34</td>\n",
       "      <td>Computing or Tech</td>\n",
       "      <td>Change &amp; Internal Communications Manager</td>\n",
       "      <td>NaN</td>\n",
       "      <td>54,600</td>\n",
       "      <td>4000.0</td>\n",
       "      <td>GBP</td>\n",
       "      <td>NaN</td>\n",
       "      <td>NaN</td>\n",
       "      <td>United Kingdom</td>\n",
       "      <td>NaN</td>\n",
       "      <td>Cambridge</td>\n",
       "      <td>8 - 10 years</td>\n",
       "      <td>5-7 years</td>\n",
       "      <td>College degree</td>\n",
       "      <td>Non-binary</td>\n",
       "      <td>White</td>\n",
       "    </tr>\n",
       "    <tr>\n",
       "      <th>2</th>\n",
       "      <td>4/27/2021 11:02:38</td>\n",
       "      <td>25-34</td>\n",
       "      <td>Accounting, Banking &amp; Finance</td>\n",
       "      <td>Marketing Specialist</td>\n",
       "      <td>NaN</td>\n",
       "      <td>34,000</td>\n",
       "      <td>NaN</td>\n",
       "      <td>USD</td>\n",
       "      <td>NaN</td>\n",
       "      <td>NaN</td>\n",
       "      <td>US</td>\n",
       "      <td>Tennessee</td>\n",
       "      <td>Chattanooga</td>\n",
       "      <td>2 - 4 years</td>\n",
       "      <td>2 - 4 years</td>\n",
       "      <td>College degree</td>\n",
       "      <td>Woman</td>\n",
       "      <td>White</td>\n",
       "    </tr>\n",
       "    <tr>\n",
       "      <th>3</th>\n",
       "      <td>4/27/2021 11:02:41</td>\n",
       "      <td>25-34</td>\n",
       "      <td>Nonprofits</td>\n",
       "      <td>Program Manager</td>\n",
       "      <td>NaN</td>\n",
       "      <td>62,000</td>\n",
       "      <td>3000.0</td>\n",
       "      <td>USD</td>\n",
       "      <td>NaN</td>\n",
       "      <td>NaN</td>\n",
       "      <td>USA</td>\n",
       "      <td>Wisconsin</td>\n",
       "      <td>Milwaukee</td>\n",
       "      <td>8 - 10 years</td>\n",
       "      <td>5-7 years</td>\n",
       "      <td>College degree</td>\n",
       "      <td>Woman</td>\n",
       "      <td>White</td>\n",
       "    </tr>\n",
       "    <tr>\n",
       "      <th>4</th>\n",
       "      <td>4/27/2021 11:02:42</td>\n",
       "      <td>25-34</td>\n",
       "      <td>Accounting, Banking &amp; Finance</td>\n",
       "      <td>Accounting Manager</td>\n",
       "      <td>NaN</td>\n",
       "      <td>60,000</td>\n",
       "      <td>7000.0</td>\n",
       "      <td>USD</td>\n",
       "      <td>NaN</td>\n",
       "      <td>NaN</td>\n",
       "      <td>US</td>\n",
       "      <td>South Carolina</td>\n",
       "      <td>Greenville</td>\n",
       "      <td>8 - 10 years</td>\n",
       "      <td>5-7 years</td>\n",
       "      <td>College degree</td>\n",
       "      <td>Woman</td>\n",
       "      <td>White</td>\n",
       "    </tr>\n",
       "  </tbody>\n",
       "</table>\n",
       "</div>"
      ],
      "text/plain": [
       "            Timestamp    age  What industry do you work in?  \\\n",
       "0  4/27/2021 11:02:10  25-34   Education (Higher Education)   \n",
       "1  4/27/2021 11:02:22  25-34              Computing or Tech   \n",
       "2  4/27/2021 11:02:38  25-34  Accounting, Banking & Finance   \n",
       "3  4/27/2021 11:02:41  25-34                     Nonprofits   \n",
       "4  4/27/2021 11:02:42  25-34  Accounting, Banking & Finance   \n",
       "\n",
       "                                  Job title  \\\n",
       "0        Research and Instruction Librarian   \n",
       "1  Change & Internal Communications Manager   \n",
       "2                      Marketing Specialist   \n",
       "3                           Program Manager   \n",
       "4                        Accounting Manager   \n",
       "\n",
       "  If your job title needs additional context, please clarify here:  \\\n",
       "0                                                NaN                 \n",
       "1                                                NaN                 \n",
       "2                                                NaN                 \n",
       "3                                                NaN                 \n",
       "4                                                NaN                 \n",
       "\n",
       "  annual_salary   bonus currency  \\\n",
       "0        55,000     0.0      USD   \n",
       "1        54,600  4000.0      GBP   \n",
       "2        34,000     NaN      USD   \n",
       "3        62,000  3000.0      USD   \n",
       "4        60,000  7000.0      USD   \n",
       "\n",
       "  If \"Other,\" please indicate the currency here:   \\\n",
       "0                                             NaN   \n",
       "1                                             NaN   \n",
       "2                                             NaN   \n",
       "3                                             NaN   \n",
       "4                                             NaN   \n",
       "\n",
       "  If your income needs additional context, please provide it here:  \\\n",
       "0                                                NaN                 \n",
       "1                                                NaN                 \n",
       "2                                                NaN                 \n",
       "3                                                NaN                 \n",
       "4                                                NaN                 \n",
       "\n",
       "          country If you're in the U.S., what state do you work in?  \\\n",
       "0   United States                                     Massachusetts   \n",
       "1  United Kingdom                                               NaN   \n",
       "2              US                                         Tennessee   \n",
       "3             USA                                         Wisconsin   \n",
       "4              US                                    South Carolina   \n",
       "\n",
       "  What city do you work in? years_working years_in_your_field  \\\n",
       "0                    Boston     5-7 years           5-7 years   \n",
       "1                 Cambridge  8 - 10 years           5-7 years   \n",
       "2               Chattanooga   2 - 4 years         2 - 4 years   \n",
       "3                 Milwaukee  8 - 10 years           5-7 years   \n",
       "4                Greenville  8 - 10 years           5-7 years   \n",
       "\n",
       "         education      gender   race  \n",
       "0  Master's degree       Woman  White  \n",
       "1   College degree  Non-binary  White  \n",
       "2   College degree       Woman  White  \n",
       "3   College degree       Woman  White  \n",
       "4   College degree       Woman  White  "
      ]
     },
     "execution_count": 14,
     "metadata": {},
     "output_type": "execute_result"
    }
   ],
   "source": [
    "df.head()"
   ]
  },
  {
   "cell_type": "markdown",
   "id": "7396a2f3-0e87-4d22-b44b-c6c50f69191d",
   "metadata": {},
   "source": [
    "### Select specific columns to be in the data frame to analyse"
   ]
  },
  {
   "cell_type": "code",
   "execution_count": 15,
   "id": "e1efe9e9-9b01-407f-aa70-e7ecdaf484a2",
   "metadata": {},
   "outputs": [],
   "source": [
    "df=df[['Timestamp','age','annual_salary','bonus','currency','country','years_working','years_in_your_field','education','gender','race']]"
   ]
  },
  {
   "cell_type": "code",
   "execution_count": 16,
   "id": "d9cbb0fb-0cd3-4132-884d-e53c70cb1294",
   "metadata": {},
   "outputs": [
    {
     "data": {
      "text/html": [
       "<div>\n",
       "<style scoped>\n",
       "    .dataframe tbody tr th:only-of-type {\n",
       "        vertical-align: middle;\n",
       "    }\n",
       "\n",
       "    .dataframe tbody tr th {\n",
       "        vertical-align: top;\n",
       "    }\n",
       "\n",
       "    .dataframe thead th {\n",
       "        text-align: right;\n",
       "    }\n",
       "</style>\n",
       "<table border=\"1\" class=\"dataframe\">\n",
       "  <thead>\n",
       "    <tr style=\"text-align: right;\">\n",
       "      <th></th>\n",
       "      <th>Timestamp</th>\n",
       "      <th>age</th>\n",
       "      <th>annual_salary</th>\n",
       "      <th>bonus</th>\n",
       "      <th>currency</th>\n",
       "      <th>country</th>\n",
       "      <th>years_working</th>\n",
       "      <th>years_in_your_field</th>\n",
       "      <th>education</th>\n",
       "      <th>gender</th>\n",
       "      <th>race</th>\n",
       "    </tr>\n",
       "  </thead>\n",
       "  <tbody>\n",
       "    <tr>\n",
       "      <th>0</th>\n",
       "      <td>4/27/2021 11:02:10</td>\n",
       "      <td>25-34</td>\n",
       "      <td>55,000</td>\n",
       "      <td>0.0</td>\n",
       "      <td>USD</td>\n",
       "      <td>United States</td>\n",
       "      <td>5-7 years</td>\n",
       "      <td>5-7 years</td>\n",
       "      <td>Master's degree</td>\n",
       "      <td>Woman</td>\n",
       "      <td>White</td>\n",
       "    </tr>\n",
       "    <tr>\n",
       "      <th>1</th>\n",
       "      <td>4/27/2021 11:02:22</td>\n",
       "      <td>25-34</td>\n",
       "      <td>54,600</td>\n",
       "      <td>4000.0</td>\n",
       "      <td>GBP</td>\n",
       "      <td>United Kingdom</td>\n",
       "      <td>8 - 10 years</td>\n",
       "      <td>5-7 years</td>\n",
       "      <td>College degree</td>\n",
       "      <td>Non-binary</td>\n",
       "      <td>White</td>\n",
       "    </tr>\n",
       "    <tr>\n",
       "      <th>2</th>\n",
       "      <td>4/27/2021 11:02:38</td>\n",
       "      <td>25-34</td>\n",
       "      <td>34,000</td>\n",
       "      <td>NaN</td>\n",
       "      <td>USD</td>\n",
       "      <td>US</td>\n",
       "      <td>2 - 4 years</td>\n",
       "      <td>2 - 4 years</td>\n",
       "      <td>College degree</td>\n",
       "      <td>Woman</td>\n",
       "      <td>White</td>\n",
       "    </tr>\n",
       "    <tr>\n",
       "      <th>3</th>\n",
       "      <td>4/27/2021 11:02:41</td>\n",
       "      <td>25-34</td>\n",
       "      <td>62,000</td>\n",
       "      <td>3000.0</td>\n",
       "      <td>USD</td>\n",
       "      <td>USA</td>\n",
       "      <td>8 - 10 years</td>\n",
       "      <td>5-7 years</td>\n",
       "      <td>College degree</td>\n",
       "      <td>Woman</td>\n",
       "      <td>White</td>\n",
       "    </tr>\n",
       "    <tr>\n",
       "      <th>4</th>\n",
       "      <td>4/27/2021 11:02:42</td>\n",
       "      <td>25-34</td>\n",
       "      <td>60,000</td>\n",
       "      <td>7000.0</td>\n",
       "      <td>USD</td>\n",
       "      <td>US</td>\n",
       "      <td>8 - 10 years</td>\n",
       "      <td>5-7 years</td>\n",
       "      <td>College degree</td>\n",
       "      <td>Woman</td>\n",
       "      <td>White</td>\n",
       "    </tr>\n",
       "  </tbody>\n",
       "</table>\n",
       "</div>"
      ],
      "text/plain": [
       "            Timestamp    age annual_salary   bonus currency         country  \\\n",
       "0  4/27/2021 11:02:10  25-34        55,000     0.0      USD   United States   \n",
       "1  4/27/2021 11:02:22  25-34        54,600  4000.0      GBP  United Kingdom   \n",
       "2  4/27/2021 11:02:38  25-34        34,000     NaN      USD              US   \n",
       "3  4/27/2021 11:02:41  25-34        62,000  3000.0      USD             USA   \n",
       "4  4/27/2021 11:02:42  25-34        60,000  7000.0      USD              US   \n",
       "\n",
       "  years_working years_in_your_field        education      gender   race  \n",
       "0     5-7 years           5-7 years  Master's degree       Woman  White  \n",
       "1  8 - 10 years           5-7 years   College degree  Non-binary  White  \n",
       "2   2 - 4 years         2 - 4 years   College degree       Woman  White  \n",
       "3  8 - 10 years           5-7 years   College degree       Woman  White  \n",
       "4  8 - 10 years           5-7 years   College degree       Woman  White  "
      ]
     },
     "execution_count": 16,
     "metadata": {},
     "output_type": "execute_result"
    }
   ],
   "source": [
    "df.head()"
   ]
  },
  {
   "cell_type": "code",
   "execution_count": 17,
   "id": "34ac93a5-3648-4286-812b-dbc625b738ae",
   "metadata": {},
   "outputs": [
    {
     "name": "stdout",
     "output_type": "stream",
     "text": [
      "<class 'pandas.core.frame.DataFrame'>\n",
      "RangeIndex: 28149 entries, 0 to 28148\n",
      "Data columns (total 11 columns):\n",
      " #   Column               Non-Null Count  Dtype  \n",
      "---  ------               --------------  -----  \n",
      " 0   Timestamp            28149 non-null  object \n",
      " 1   age                  28149 non-null  object \n",
      " 2   annual_salary        28149 non-null  object \n",
      " 3   bonus                20813 non-null  float64\n",
      " 4   currency             28149 non-null  object \n",
      " 5   country              28149 non-null  object \n",
      " 6   years_working        28149 non-null  object \n",
      " 7   years_in_your_field  28149 non-null  object \n",
      " 8   education            27921 non-null  object \n",
      " 9   gender               27975 non-null  object \n",
      " 10  race                 27966 non-null  object \n",
      "dtypes: float64(1), object(10)\n",
      "memory usage: 2.4+ MB\n"
     ]
    }
   ],
   "source": [
    "df.info()"
   ]
  },
  {
   "cell_type": "markdown",
   "id": "b6e7612e-d3fb-4eed-86e5-98d41f9fe981",
   "metadata": {},
   "source": [
    "### Cleaning/modifying the datatype"
   ]
  },
  {
   "cell_type": "code",
   "execution_count": 18,
   "id": "08d8c4ed-5bc3-40ca-9c87-ec7557a3ddcc",
   "metadata": {},
   "outputs": [],
   "source": [
    "# Extract year from Timestamp\n",
    "df['Timestamp'] = pd.to_datetime(df['Timestamp'], errors='coerce')\n",
    "df['year'] = df['Timestamp'].dt.year.astype('Int64')\n",
    "df = df.drop(columns=['Timestamp'])\n",
    "\n",
    "# Move 'year' column to the first position\n",
    "cols = ['year'] + [col for col in df.columns if col != 'year']\n",
    "df = df[cols]"
   ]
  },
  {
   "cell_type": "code",
   "execution_count": 19,
   "id": "545dfc4b-1124-448e-b68d-a0202885d34e",
   "metadata": {},
   "outputs": [
    {
     "data": {
      "text/html": [
       "<div>\n",
       "<style scoped>\n",
       "    .dataframe tbody tr th:only-of-type {\n",
       "        vertical-align: middle;\n",
       "    }\n",
       "\n",
       "    .dataframe tbody tr th {\n",
       "        vertical-align: top;\n",
       "    }\n",
       "\n",
       "    .dataframe thead th {\n",
       "        text-align: right;\n",
       "    }\n",
       "</style>\n",
       "<table border=\"1\" class=\"dataframe\">\n",
       "  <thead>\n",
       "    <tr style=\"text-align: right;\">\n",
       "      <th></th>\n",
       "      <th>year</th>\n",
       "      <th>age</th>\n",
       "      <th>annual_salary</th>\n",
       "      <th>bonus</th>\n",
       "      <th>currency</th>\n",
       "      <th>country</th>\n",
       "      <th>years_working</th>\n",
       "      <th>years_in_your_field</th>\n",
       "      <th>education</th>\n",
       "      <th>gender</th>\n",
       "      <th>race</th>\n",
       "    </tr>\n",
       "  </thead>\n",
       "  <tbody>\n",
       "    <tr>\n",
       "      <th>0</th>\n",
       "      <td>2021</td>\n",
       "      <td>25-34</td>\n",
       "      <td>55,000</td>\n",
       "      <td>0.0</td>\n",
       "      <td>USD</td>\n",
       "      <td>United States</td>\n",
       "      <td>5-7 years</td>\n",
       "      <td>5-7 years</td>\n",
       "      <td>Master's degree</td>\n",
       "      <td>Woman</td>\n",
       "      <td>White</td>\n",
       "    </tr>\n",
       "    <tr>\n",
       "      <th>1</th>\n",
       "      <td>2021</td>\n",
       "      <td>25-34</td>\n",
       "      <td>54,600</td>\n",
       "      <td>4000.0</td>\n",
       "      <td>GBP</td>\n",
       "      <td>United Kingdom</td>\n",
       "      <td>8 - 10 years</td>\n",
       "      <td>5-7 years</td>\n",
       "      <td>College degree</td>\n",
       "      <td>Non-binary</td>\n",
       "      <td>White</td>\n",
       "    </tr>\n",
       "    <tr>\n",
       "      <th>2</th>\n",
       "      <td>2021</td>\n",
       "      <td>25-34</td>\n",
       "      <td>34,000</td>\n",
       "      <td>NaN</td>\n",
       "      <td>USD</td>\n",
       "      <td>US</td>\n",
       "      <td>2 - 4 years</td>\n",
       "      <td>2 - 4 years</td>\n",
       "      <td>College degree</td>\n",
       "      <td>Woman</td>\n",
       "      <td>White</td>\n",
       "    </tr>\n",
       "    <tr>\n",
       "      <th>3</th>\n",
       "      <td>2021</td>\n",
       "      <td>25-34</td>\n",
       "      <td>62,000</td>\n",
       "      <td>3000.0</td>\n",
       "      <td>USD</td>\n",
       "      <td>USA</td>\n",
       "      <td>8 - 10 years</td>\n",
       "      <td>5-7 years</td>\n",
       "      <td>College degree</td>\n",
       "      <td>Woman</td>\n",
       "      <td>White</td>\n",
       "    </tr>\n",
       "    <tr>\n",
       "      <th>4</th>\n",
       "      <td>2021</td>\n",
       "      <td>25-34</td>\n",
       "      <td>60,000</td>\n",
       "      <td>7000.0</td>\n",
       "      <td>USD</td>\n",
       "      <td>US</td>\n",
       "      <td>8 - 10 years</td>\n",
       "      <td>5-7 years</td>\n",
       "      <td>College degree</td>\n",
       "      <td>Woman</td>\n",
       "      <td>White</td>\n",
       "    </tr>\n",
       "  </tbody>\n",
       "</table>\n",
       "</div>"
      ],
      "text/plain": [
       "   year    age annual_salary   bonus currency         country years_working  \\\n",
       "0  2021  25-34        55,000     0.0      USD   United States     5-7 years   \n",
       "1  2021  25-34        54,600  4000.0      GBP  United Kingdom  8 - 10 years   \n",
       "2  2021  25-34        34,000     NaN      USD              US   2 - 4 years   \n",
       "3  2021  25-34        62,000  3000.0      USD             USA  8 - 10 years   \n",
       "4  2021  25-34        60,000  7000.0      USD              US  8 - 10 years   \n",
       "\n",
       "  years_in_your_field        education      gender   race  \n",
       "0           5-7 years  Master's degree       Woman  White  \n",
       "1           5-7 years   College degree  Non-binary  White  \n",
       "2         2 - 4 years   College degree       Woman  White  \n",
       "3           5-7 years   College degree       Woman  White  \n",
       "4           5-7 years   College degree       Woman  White  "
      ]
     },
     "execution_count": 19,
     "metadata": {},
     "output_type": "execute_result"
    }
   ],
   "source": [
    "df.head()"
   ]
  },
  {
   "cell_type": "code",
   "execution_count": 20,
   "id": "db329380-69bc-49b3-8adb-5d9be57ca7a8",
   "metadata": {},
   "outputs": [],
   "source": [
    "# Age — normalize dash spacing\n",
    "df['age'] = df['age'].str.strip().str.replace(r'\\s*-\\s*', '-', regex=True)"
   ]
  },
  {
   "cell_type": "code",
   "execution_count": 21,
   "id": "211d236b-c984-4bc8-ae30-0ecc1ded8e68",
   "metadata": {},
   "outputs": [],
   "source": [
    "# Remove commas and convert to integer\n",
    "df['annual_salary'] = df['annual_salary'].str.replace(',', '').astype(int)\n",
    "\n",
    "# Bonus → integer (handle NaN)\n",
    "df['bonus'] = df['bonus'].fillna(0).astype(int)"
   ]
  },
  {
   "cell_type": "code",
   "execution_count": 22,
   "id": "d07da32b-ce9c-4727-acc6-a963d181264c",
   "metadata": {},
   "outputs": [
    {
     "data": {
      "text/html": [
       "<div>\n",
       "<style scoped>\n",
       "    .dataframe tbody tr th:only-of-type {\n",
       "        vertical-align: middle;\n",
       "    }\n",
       "\n",
       "    .dataframe tbody tr th {\n",
       "        vertical-align: top;\n",
       "    }\n",
       "\n",
       "    .dataframe thead th {\n",
       "        text-align: right;\n",
       "    }\n",
       "</style>\n",
       "<table border=\"1\" class=\"dataframe\">\n",
       "  <thead>\n",
       "    <tr style=\"text-align: right;\">\n",
       "      <th></th>\n",
       "      <th>year</th>\n",
       "      <th>age</th>\n",
       "      <th>annual_salary</th>\n",
       "      <th>bonus</th>\n",
       "      <th>currency</th>\n",
       "      <th>country</th>\n",
       "      <th>years_working</th>\n",
       "      <th>years_in_your_field</th>\n",
       "      <th>education</th>\n",
       "      <th>gender</th>\n",
       "      <th>race</th>\n",
       "    </tr>\n",
       "  </thead>\n",
       "  <tbody>\n",
       "    <tr>\n",
       "      <th>0</th>\n",
       "      <td>2021</td>\n",
       "      <td>25-34</td>\n",
       "      <td>55000</td>\n",
       "      <td>0</td>\n",
       "      <td>USD</td>\n",
       "      <td>United States</td>\n",
       "      <td>5-7 years</td>\n",
       "      <td>5-7 years</td>\n",
       "      <td>Master's degree</td>\n",
       "      <td>Woman</td>\n",
       "      <td>White</td>\n",
       "    </tr>\n",
       "    <tr>\n",
       "      <th>1</th>\n",
       "      <td>2021</td>\n",
       "      <td>25-34</td>\n",
       "      <td>54600</td>\n",
       "      <td>4000</td>\n",
       "      <td>GBP</td>\n",
       "      <td>United Kingdom</td>\n",
       "      <td>8 - 10 years</td>\n",
       "      <td>5-7 years</td>\n",
       "      <td>College degree</td>\n",
       "      <td>Non-binary</td>\n",
       "      <td>White</td>\n",
       "    </tr>\n",
       "    <tr>\n",
       "      <th>2</th>\n",
       "      <td>2021</td>\n",
       "      <td>25-34</td>\n",
       "      <td>34000</td>\n",
       "      <td>0</td>\n",
       "      <td>USD</td>\n",
       "      <td>US</td>\n",
       "      <td>2 - 4 years</td>\n",
       "      <td>2 - 4 years</td>\n",
       "      <td>College degree</td>\n",
       "      <td>Woman</td>\n",
       "      <td>White</td>\n",
       "    </tr>\n",
       "    <tr>\n",
       "      <th>3</th>\n",
       "      <td>2021</td>\n",
       "      <td>25-34</td>\n",
       "      <td>62000</td>\n",
       "      <td>3000</td>\n",
       "      <td>USD</td>\n",
       "      <td>USA</td>\n",
       "      <td>8 - 10 years</td>\n",
       "      <td>5-7 years</td>\n",
       "      <td>College degree</td>\n",
       "      <td>Woman</td>\n",
       "      <td>White</td>\n",
       "    </tr>\n",
       "    <tr>\n",
       "      <th>4</th>\n",
       "      <td>2021</td>\n",
       "      <td>25-34</td>\n",
       "      <td>60000</td>\n",
       "      <td>7000</td>\n",
       "      <td>USD</td>\n",
       "      <td>US</td>\n",
       "      <td>8 - 10 years</td>\n",
       "      <td>5-7 years</td>\n",
       "      <td>College degree</td>\n",
       "      <td>Woman</td>\n",
       "      <td>White</td>\n",
       "    </tr>\n",
       "  </tbody>\n",
       "</table>\n",
       "</div>"
      ],
      "text/plain": [
       "   year    age  annual_salary  bonus currency         country years_working  \\\n",
       "0  2021  25-34          55000      0      USD   United States     5-7 years   \n",
       "1  2021  25-34          54600   4000      GBP  United Kingdom  8 - 10 years   \n",
       "2  2021  25-34          34000      0      USD              US   2 - 4 years   \n",
       "3  2021  25-34          62000   3000      USD             USA  8 - 10 years   \n",
       "4  2021  25-34          60000   7000      USD              US  8 - 10 years   \n",
       "\n",
       "  years_in_your_field        education      gender   race  \n",
       "0           5-7 years  Master's degree       Woman  White  \n",
       "1           5-7 years   College degree  Non-binary  White  \n",
       "2         2 - 4 years   College degree       Woman  White  \n",
       "3           5-7 years   College degree       Woman  White  \n",
       "4           5-7 years   College degree       Woman  White  "
      ]
     },
     "execution_count": 22,
     "metadata": {},
     "output_type": "execute_result"
    }
   ],
   "source": [
    "df.head()"
   ]
  },
  {
   "cell_type": "code",
   "execution_count": 23,
   "id": "87a3e8d8-5442-4f16-8a41-a78843b38ec0",
   "metadata": {},
   "outputs": [],
   "source": [
    "# Years fields — remove \"years\" and fix dash spacing\n",
    "for col in ['years_working', 'years_in_your_field']:\n",
    "    df[col] = (\n",
    "        df[col]\n",
    "          .str.replace('years', '', case=False, regex=False)\n",
    "          .str.strip()\n",
    "          .str.replace(r'\\s*-\\s*', '-', regex=True)\n",
    "    )"
   ]
  },
  {
   "cell_type": "code",
   "execution_count": 24,
   "id": "ccfab34d-1c45-495c-aa1f-dc9141ad08fb",
   "metadata": {},
   "outputs": [
    {
     "name": "stdout",
     "output_type": "stream",
     "text": [
      "<class 'pandas.core.frame.DataFrame'>\n",
      "RangeIndex: 28149 entries, 0 to 28148\n",
      "Data columns (total 11 columns):\n",
      " #   Column               Non-Null Count  Dtype \n",
      "---  ------               --------------  ----- \n",
      " 0   year                 28149 non-null  Int64 \n",
      " 1   age                  28149 non-null  object\n",
      " 2   annual_salary        28149 non-null  int64 \n",
      " 3   bonus                28149 non-null  int64 \n",
      " 4   currency             28149 non-null  object\n",
      " 5   country              28149 non-null  object\n",
      " 6   years_working        28149 non-null  object\n",
      " 7   years_in_your_field  28149 non-null  object\n",
      " 8   education            27921 non-null  object\n",
      " 9   gender               27975 non-null  object\n",
      " 10  race                 27966 non-null  object\n",
      "dtypes: Int64(1), int64(2), object(8)\n",
      "memory usage: 2.4+ MB\n"
     ]
    }
   ],
   "source": [
    "df.info()"
   ]
  },
  {
   "cell_type": "code",
   "execution_count": 25,
   "id": "d32b88cb-2d1a-4118-9327-07b34a4955f4",
   "metadata": {},
   "outputs": [
    {
     "data": {
      "text/html": [
       "<div>\n",
       "<style scoped>\n",
       "    .dataframe tbody tr th:only-of-type {\n",
       "        vertical-align: middle;\n",
       "    }\n",
       "\n",
       "    .dataframe tbody tr th {\n",
       "        vertical-align: top;\n",
       "    }\n",
       "\n",
       "    .dataframe thead th {\n",
       "        text-align: right;\n",
       "    }\n",
       "</style>\n",
       "<table border=\"1\" class=\"dataframe\">\n",
       "  <thead>\n",
       "    <tr style=\"text-align: right;\">\n",
       "      <th></th>\n",
       "      <th>year</th>\n",
       "      <th>age</th>\n",
       "      <th>annual_salary</th>\n",
       "      <th>bonus</th>\n",
       "      <th>currency</th>\n",
       "      <th>country</th>\n",
       "      <th>years_working</th>\n",
       "      <th>years_in_your_field</th>\n",
       "      <th>education</th>\n",
       "      <th>gender</th>\n",
       "      <th>race</th>\n",
       "    </tr>\n",
       "  </thead>\n",
       "  <tbody>\n",
       "    <tr>\n",
       "      <th>0</th>\n",
       "      <td>2021</td>\n",
       "      <td>25-34</td>\n",
       "      <td>55000</td>\n",
       "      <td>0</td>\n",
       "      <td>USD</td>\n",
       "      <td>United States</td>\n",
       "      <td>5-7</td>\n",
       "      <td>5-7</td>\n",
       "      <td>Master's degree</td>\n",
       "      <td>Woman</td>\n",
       "      <td>White</td>\n",
       "    </tr>\n",
       "    <tr>\n",
       "      <th>1</th>\n",
       "      <td>2021</td>\n",
       "      <td>25-34</td>\n",
       "      <td>54600</td>\n",
       "      <td>4000</td>\n",
       "      <td>GBP</td>\n",
       "      <td>United Kingdom</td>\n",
       "      <td>8-10</td>\n",
       "      <td>5-7</td>\n",
       "      <td>College degree</td>\n",
       "      <td>Non-binary</td>\n",
       "      <td>White</td>\n",
       "    </tr>\n",
       "    <tr>\n",
       "      <th>2</th>\n",
       "      <td>2021</td>\n",
       "      <td>25-34</td>\n",
       "      <td>34000</td>\n",
       "      <td>0</td>\n",
       "      <td>USD</td>\n",
       "      <td>US</td>\n",
       "      <td>2-4</td>\n",
       "      <td>2-4</td>\n",
       "      <td>College degree</td>\n",
       "      <td>Woman</td>\n",
       "      <td>White</td>\n",
       "    </tr>\n",
       "    <tr>\n",
       "      <th>3</th>\n",
       "      <td>2021</td>\n",
       "      <td>25-34</td>\n",
       "      <td>62000</td>\n",
       "      <td>3000</td>\n",
       "      <td>USD</td>\n",
       "      <td>USA</td>\n",
       "      <td>8-10</td>\n",
       "      <td>5-7</td>\n",
       "      <td>College degree</td>\n",
       "      <td>Woman</td>\n",
       "      <td>White</td>\n",
       "    </tr>\n",
       "    <tr>\n",
       "      <th>4</th>\n",
       "      <td>2021</td>\n",
       "      <td>25-34</td>\n",
       "      <td>60000</td>\n",
       "      <td>7000</td>\n",
       "      <td>USD</td>\n",
       "      <td>US</td>\n",
       "      <td>8-10</td>\n",
       "      <td>5-7</td>\n",
       "      <td>College degree</td>\n",
       "      <td>Woman</td>\n",
       "      <td>White</td>\n",
       "    </tr>\n",
       "  </tbody>\n",
       "</table>\n",
       "</div>"
      ],
      "text/plain": [
       "   year    age  annual_salary  bonus currency         country years_working  \\\n",
       "0  2021  25-34          55000      0      USD   United States           5-7   \n",
       "1  2021  25-34          54600   4000      GBP  United Kingdom          8-10   \n",
       "2  2021  25-34          34000      0      USD              US           2-4   \n",
       "3  2021  25-34          62000   3000      USD             USA          8-10   \n",
       "4  2021  25-34          60000   7000      USD              US          8-10   \n",
       "\n",
       "  years_in_your_field        education      gender   race  \n",
       "0                 5-7  Master's degree       Woman  White  \n",
       "1                 5-7   College degree  Non-binary  White  \n",
       "2                 2-4   College degree       Woman  White  \n",
       "3                 5-7   College degree       Woman  White  \n",
       "4                 5-7   College degree       Woman  White  "
      ]
     },
     "execution_count": 25,
     "metadata": {},
     "output_type": "execute_result"
    }
   ],
   "source": [
    "df.head()"
   ]
  },
  {
   "cell_type": "code",
   "execution_count": 26,
   "id": "db2105c7-e44d-4136-8500-6a571200bae7",
   "metadata": {},
   "outputs": [
    {
     "data": {
      "text/plain": [
       "age\n",
       "25-34         12690\n",
       "35-44          9910\n",
       "45-54          3194\n",
       "18-24          1251\n",
       "55-64           995\n",
       "65 or over       95\n",
       "under 18         14\n",
       "Name: count, dtype: int64"
      ]
     },
     "execution_count": 26,
     "metadata": {},
     "output_type": "execute_result"
    }
   ],
   "source": [
    "# Count different values in the 'age' column\n",
    "df['age'].value_counts()"
   ]
  },
  {
   "cell_type": "code",
   "execution_count": 27,
   "id": "9cf43398-7876-4d62-b8d5-0b1f7feb1e9a",
   "metadata": {},
   "outputs": [
    {
     "data": {
      "text/plain": [
       "currency\n",
       "USD        23442\n",
       "CAD         1675\n",
       "GBP         1593\n",
       "EUR          650\n",
       "AUD/NZD      505\n",
       "Other        167\n",
       "CHF           37\n",
       "SEK           37\n",
       "JPY           23\n",
       "ZAR           16\n",
       "HKD            4\n",
       "Name: count, dtype: int64"
      ]
     },
     "execution_count": 27,
     "metadata": {},
     "output_type": "execute_result"
    }
   ],
   "source": [
    "# Count values in the 'currency' column\n",
    "df['currency'].value_counts()"
   ]
  },
  {
   "cell_type": "code",
   "execution_count": 28,
   "id": "6e98eb8b-c226-4c6f-b456-6f594b762933",
   "metadata": {},
   "outputs": [
    {
     "data": {
      "text/plain": [
       "country\n",
       "United States     9015\n",
       "USA               7951\n",
       "US                2614\n",
       "Canada            1573\n",
       "United States      668\n",
       "                  ... \n",
       " New Zealand         1\n",
       "Cuba                 1\n",
       "Australi             1\n",
       "Cote d'Ivoire        1\n",
       "Thailand             1\n",
       "Name: count, Length: 386, dtype: int64"
      ]
     },
     "execution_count": 28,
     "metadata": {},
     "output_type": "execute_result"
    }
   ],
   "source": [
    "# Count values in the 'country' column\n",
    "df['country'].value_counts()"
   ]
  },
  {
   "cell_type": "code",
   "execution_count": 31,
   "id": "cb34e5f5-99d8-4777-bf84-2c7066ea8ae3",
   "metadata": {},
   "outputs": [
    {
     "name": "stdout",
     "output_type": "stream",
     "text": [
      "\n",
      "Found 'The Netherlands' → Did you mean 'Netherlands'? (confidence 95%)\n"
     ]
    },
    {
     "name": "stdin",
     "output_type": "stream",
     "text": [
      "Accept suggestion? (y/n):  y\n"
     ]
    },
    {
     "name": "stdout",
     "output_type": "stream",
     "text": [
      "\n",
      "Found 'U.S>' → Did you mean 'United Arab Emirates'? (confidence 86%)\n"
     ]
    },
    {
     "name": "stdin",
     "output_type": "stream",
     "text": [
      "Accept suggestion? (y/n):  n\n",
      "Enter the correct country:  United States\n"
     ]
    },
    {
     "name": "stdout",
     "output_type": "stream",
     "text": [
      "\n",
      "Found 'ISA' → Did you mean 'Bulgaria'? (confidence 72%)\n"
     ]
    },
    {
     "name": "stdin",
     "output_type": "stream",
     "text": [
      "Accept suggestion? (y/n):  n\n",
      "Enter the correct country:  United States\n"
     ]
    },
    {
     "name": "stdout",
     "output_type": "stream",
     "text": [
      "\n",
      "Found 'Great Britain ' → Did you mean 'Taiwan'? (confidence 60%)\n"
     ]
    },
    {
     "name": "stdin",
     "output_type": "stream",
     "text": [
      "Accept suggestion? (y/n):  n\n",
      "Enter the correct country:  United Kingdom\n"
     ]
    },
    {
     "name": "stdout",
     "output_type": "stream",
     "text": [
      "\n",
      "Found 'United State' → Did you mean 'United States'? (confidence 96%)\n"
     ]
    },
    {
     "name": "stdin",
     "output_type": "stream",
     "text": [
      "Accept suggestion? (y/n):  y\n"
     ]
    },
    {
     "name": "stdout",
     "output_type": "stream",
     "text": [
      "\n",
      "Found 'Bermuda' → Did you mean 'Germany'? (confidence 57%)\n"
     ]
    },
    {
     "name": "stdin",
     "output_type": "stream",
     "text": [
      "Accept suggestion? (y/n):  n\n",
      "Enter the correct country:  Bermuda\n"
     ]
    },
    {
     "name": "stdout",
     "output_type": "stream",
     "text": [
      "\n",
      "Found 'The United States' → Did you mean 'United States'? (confidence 95%)\n"
     ]
    },
    {
     "name": "stdin",
     "output_type": "stream",
     "text": [
      "Accept suggestion? (y/n):  y\n"
     ]
    },
    {
     "name": "stdout",
     "output_type": "stream",
     "text": [
      "\n",
      "Found 'United State of America' → Did you mean 'United Kingdom'? (confidence 86%)\n"
     ]
    },
    {
     "name": "stdin",
     "output_type": "stream",
     "text": [
      "Accept suggestion? (y/n):  n\n",
      "Enter the correct country:  United States\n"
     ]
    },
    {
     "name": "stdout",
     "output_type": "stream",
     "text": [
      "\n",
      "Found 'United Stated' → Did you mean 'United States'? (confidence 92%)\n"
     ]
    },
    {
     "name": "stdin",
     "output_type": "stream",
     "text": [
      "Accept suggestion? (y/n):  y\n"
     ]
    },
    {
     "name": "stdout",
     "output_type": "stream",
     "text": [
      "\n",
      "Found 'Hong Kong' → Did you mean 'Congo'? (confidence 57%)\n"
     ]
    },
    {
     "name": "stdin",
     "output_type": "stream",
     "text": [
      "Accept suggestion? (y/n):  n\n",
      "Enter the correct country:  China\n"
     ]
    },
    {
     "name": "stdout",
     "output_type": "stream",
     "text": [
      "\n",
      "Found 'Contracts' → Did you mean 'Congo'? (confidence 54%)\n"
     ]
    },
    {
     "name": "stdin",
     "output_type": "stream",
     "text": [
      "Accept suggestion? (y/n):  n\n",
      "Enter the correct country:  \n"
     ]
    },
    {
     "name": "stdout",
     "output_type": "stream",
     "text": [
      "\n",
      "Found 'USA-- Virgin Islands' → Did you mean 'Finland'? (confidence 64%)\n"
     ]
    },
    {
     "name": "stdin",
     "output_type": "stream",
     "text": [
      "Accept suggestion? (y/n):  n\n",
      "Enter the correct country:  United States\n"
     ]
    },
    {
     "name": "stdout",
     "output_type": "stream",
     "text": [
      "\n",
      "Found 'United Statws' → Did you mean 'United States'? (confidence 92%)\n"
     ]
    },
    {
     "name": "stdin",
     "output_type": "stream",
     "text": [
      "Accept suggestion? (y/n):  y\n"
     ]
    },
    {
     "name": "stdout",
     "output_type": "stream",
     "text": [
      "\n",
      "Found 'England/UK' → Did you mean 'Poland'? (confidence 60%)\n"
     ]
    },
    {
     "name": "stdin",
     "output_type": "stream",
     "text": [
      "Accept suggestion? (y/n):  n\n",
      "Enter the correct country:  United Kingdom\n"
     ]
    },
    {
     "name": "stdout",
     "output_type": "stream",
     "text": [
      "\n",
      "Found 'U.S' → Did you mean 'United Arab Emirates'? (confidence 86%)\n"
     ]
    },
    {
     "name": "stdin",
     "output_type": "stream",
     "text": [
      "Accept suggestion? (y/n):  n\n",
      "Enter the correct country:  United States\n"
     ]
    },
    {
     "name": "stdout",
     "output_type": "stream",
     "text": [
      "\n",
      "Found 'We don't get raises, we get quarterly bonuses, but they periodically asses income in the area you work, so I got a raise because a 3rd party assessment showed I was paid too little for the area we were located' → Did you mean 'Israel'? (confidence 38%)\n"
     ]
    },
    {
     "name": "stdin",
     "output_type": "stream",
     "text": [
      "Accept suggestion? (y/n):  n\n",
      "Enter the correct country:  \n"
     ]
    },
    {
     "name": "stdout",
     "output_type": "stream",
     "text": [
      "\n",
      "Found 'Unites States ' → Did you mean 'United States'? (confidence 92%)\n"
     ]
    },
    {
     "name": "stdin",
     "output_type": "stream",
     "text": [
      "Accept suggestion? (y/n):  y\n"
     ]
    },
    {
     "name": "stdout",
     "output_type": "stream",
     "text": [
      "\n",
      "Found 'England, UK.' → Did you mean 'Finland'? (confidence 64%)\n"
     ]
    },
    {
     "name": "stdin",
     "output_type": "stream",
     "text": [
      "Accept suggestion? (y/n):  n\n",
      "Enter the correct country:  United Kingdom\n"
     ]
    },
    {
     "name": "stdout",
     "output_type": "stream",
     "text": [
      "\n",
      "Found 'U. S. ' → Did you mean 'United Arab Emirates'? (confidence 86%)\n"
     ]
    },
    {
     "name": "stdin",
     "output_type": "stream",
     "text": [
      "Accept suggestion? (y/n):  n\n",
      "Enter the correct country:  United States\n"
     ]
    },
    {
     "name": "stdout",
     "output_type": "stream",
     "text": [
      "\n",
      "Found 'Britain ' → Did you mean 'Brazil'? (confidence 62%)\n"
     ]
    },
    {
     "name": "stdin",
     "output_type": "stream",
     "text": [
      "Accept suggestion? (y/n):  n\n",
      "Enter the correct country:  United Kingdom\n"
     ]
    },
    {
     "name": "stdout",
     "output_type": "stream",
     "text": [
      "\n",
      "Found 'United Sates' → Did you mean 'United States'? (confidence 96%)\n"
     ]
    },
    {
     "name": "stdin",
     "output_type": "stream",
     "text": [
      "Accept suggestion? (y/n):  y\n"
     ]
    },
    {
     "name": "stdout",
     "output_type": "stream",
     "text": [
      "\n",
      "Found 'Canada, Ottawa, ontario' → Did you mean 'Canada'? (confidence 90%)\n"
     ]
    },
    {
     "name": "stdin",
     "output_type": "stream",
     "text": [
      "Accept suggestion? (y/n):  y\n"
     ]
    },
    {
     "name": "stdout",
     "output_type": "stream",
     "text": [
      "\n",
      "Found 'Global' → Did you mean 'Colombia'? (confidence 57%)\n"
     ]
    },
    {
     "name": "stdin",
     "output_type": "stream",
     "text": [
      "Accept suggestion? (y/n):  n\n",
      "Enter the correct country:  \n"
     ]
    },
    {
     "name": "stdout",
     "output_type": "stream",
     "text": [
      "\n",
      "Found 'United States of American ' → Did you mean 'United States'? (confidence 90%)\n"
     ]
    },
    {
     "name": "stdin",
     "output_type": "stream",
     "text": [
      "Accept suggestion? (y/n):  y\n"
     ]
    },
    {
     "name": "stdout",
     "output_type": "stream",
     "text": [
      "\n",
      "Found 'Uniited States' → Did you mean 'United States'? (confidence 96%)\n"
     ]
    },
    {
     "name": "stdin",
     "output_type": "stream",
     "text": [
      "Accept suggestion? (y/n):  y\n"
     ]
    },
    {
     "name": "stdout",
     "output_type": "stream",
     "text": [
      "\n",
      "Found 'United Kingdom (England)' → Did you mean 'United Kingdom'? (confidence 90%)\n"
     ]
    },
    {
     "name": "stdin",
     "output_type": "stream",
     "text": [
      "Accept suggestion? (y/n):  y\n"
     ]
    },
    {
     "name": "stdout",
     "output_type": "stream",
     "text": [
      "\n",
      "Found 'Worldwide (based in US but short term trips aroudn the world)' → Did you mean 'Netherlands'? (confidence 58%)\n"
     ]
    },
    {
     "name": "stdin",
     "output_type": "stream",
     "text": [
      "Accept suggestion? (y/n):  n\n",
      "Enter the correct country:  United States\n"
     ]
    },
    {
     "name": "stdout",
     "output_type": "stream",
     "text": [
      "\n",
      "Found 'Canadw' → Did you mean 'Canada'? (confidence 83%)\n"
     ]
    },
    {
     "name": "stdin",
     "output_type": "stream",
     "text": [
      "Accept suggestion? (y/n):  y\n"
     ]
    },
    {
     "name": "stdout",
     "output_type": "stream",
     "text": [
      "\n",
      "Found 'United Sates of America' → Did you mean 'United Kingdom'? (confidence 86%)\n"
     ]
    },
    {
     "name": "stdin",
     "output_type": "stream",
     "text": [
      "Accept suggestion? (y/n):  n\n",
      "Enter the correct country:  United States\n"
     ]
    },
    {
     "name": "stdout",
     "output_type": "stream",
     "text": [
      "\n",
      "Found 'United States (I work from home and my clients are all over the US/Canada/PR' → Did you mean 'United States'? (confidence 90%)\n"
     ]
    },
    {
     "name": "stdin",
     "output_type": "stream",
     "text": [
      "Accept suggestion? (y/n):  y\n"
     ]
    },
    {
     "name": "stdout",
     "output_type": "stream",
     "text": [
      "\n",
      "Found 'Unted States' → Did you mean 'United States'? (confidence 96%)\n"
     ]
    },
    {
     "name": "stdin",
     "output_type": "stream",
     "text": [
      "Accept suggestion? (y/n):  y\n"
     ]
    },
    {
     "name": "stdout",
     "output_type": "stream",
     "text": [
      "\n",
      "Found 'United Statesp' → Did you mean 'United States'? (confidence 96%)\n"
     ]
    },
    {
     "name": "stdin",
     "output_type": "stream",
     "text": [
      "Accept suggestion? (y/n):  y\n"
     ]
    },
    {
     "name": "stdout",
     "output_type": "stream",
     "text": [
      "\n",
      "Found 'United Stattes' → Did you mean 'United States'? (confidence 96%)\n"
     ]
    },
    {
     "name": "stdin",
     "output_type": "stream",
     "text": [
      "Accept suggestion? (y/n):  y\n"
     ]
    },
    {
     "name": "stdout",
     "output_type": "stream",
     "text": [
      "\n",
      "Found 'United Statea' → Did you mean 'United States'? (confidence 92%)\n"
     ]
    },
    {
     "name": "stdin",
     "output_type": "stream",
     "text": [
      "Accept suggestion? (y/n):  y\n"
     ]
    },
    {
     "name": "stdout",
     "output_type": "stream",
     "text": [
      "\n",
      "Found 'United Kingdom.' → Did you mean 'United Kingdom'? (confidence 100%)\n"
     ]
    },
    {
     "name": "stdin",
     "output_type": "stream",
     "text": [
      "Accept suggestion? (y/n):  y\n"
     ]
    },
    {
     "name": "stdout",
     "output_type": "stream",
     "text": [
      "\n",
      "Found 'Trinidad and Tobago' → Did you mean 'India'? (confidence 72%)\n"
     ]
    },
    {
     "name": "stdin",
     "output_type": "stream",
     "text": [
      "Accept suggestion? (y/n):  n\n",
      "Enter the correct country:  Trinidad and Tobago\n"
     ]
    },
    {
     "name": "stdout",
     "output_type": "stream",
     "text": [
      "\n",
      "Found 'United Statees' → Did you mean 'United States'? (confidence 96%)\n"
     ]
    },
    {
     "name": "stdin",
     "output_type": "stream",
     "text": [
      "Accept suggestion? (y/n):  y\n"
     ]
    },
    {
     "name": "stdout",
     "output_type": "stream",
     "text": [
      "\n",
      "Found 'Cayman Islands' → Did you mean 'Finland'? (confidence 64%)\n"
     ]
    },
    {
     "name": "stdin",
     "output_type": "stream",
     "text": [
      "Accept suggestion? (y/n):  n\n",
      "Enter the correct country:  Cayman Islands\n"
     ]
    },
    {
     "name": "stdout",
     "output_type": "stream",
     "text": [
      "\n",
      "Found 'Can' → Did you mean 'Canada'? (confidence 90%)\n"
     ]
    },
    {
     "name": "stdin",
     "output_type": "stream",
     "text": [
      "Accept suggestion? (y/n):  y\n"
     ]
    },
    {
     "name": "stdout",
     "output_type": "stream",
     "text": [
      "\n",
      "Found 'I am located in Canada but I work for a company in the US' → Did you mean 'Canada'? (confidence 60%)\n"
     ]
    },
    {
     "name": "stdin",
     "output_type": "stream",
     "text": [
      "Accept suggestion? (y/n):  n\n",
      "Enter the correct country:  Canada\n"
     ]
    },
    {
     "name": "stdout",
     "output_type": "stream",
     "text": [
      "\n",
      "Found 'Uniyed states' → Did you mean 'United States'? (confidence 92%)\n"
     ]
    },
    {
     "name": "stdin",
     "output_type": "stream",
     "text": [
      "Accept suggestion? (y/n):  y\n"
     ]
    },
    {
     "name": "stdout",
     "output_type": "stream",
     "text": [
      "\n",
      "Found 'Uniyes States' → Did you mean 'United States'? (confidence 85%)\n"
     ]
    },
    {
     "name": "stdin",
     "output_type": "stream",
     "text": [
      "Accept suggestion? (y/n):  y\n"
     ]
    },
    {
     "name": "stdout",
     "output_type": "stream",
     "text": [
      "\n",
      "Found 'United States of Americas' → Did you mean 'United States'? (confidence 90%)\n"
     ]
    },
    {
     "name": "stdin",
     "output_type": "stream",
     "text": [
      "Accept suggestion? (y/n):  y\n"
     ]
    },
    {
     "name": "stdout",
     "output_type": "stream",
     "text": [
      "\n",
      "Found 'U.A.' → Did you mean 'Bosnia and Herzegovina'? (confidence 60%)\n"
     ]
    },
    {
     "name": "stdin",
     "output_type": "stream",
     "text": [
      "Accept suggestion? (y/n):  n\n",
      "Enter the correct country:  \n"
     ]
    },
    {
     "name": "stdout",
     "output_type": "stream",
     "text": [
      "\n",
      "Found 'Puerto Rico' → Did you mean 'South Africa'? (confidence 52%)\n"
     ]
    },
    {
     "name": "stdin",
     "output_type": "stream",
     "text": [
      "Accept suggestion? (y/n):  n\n",
      "Enter the correct country:  Puerto Rico\n"
     ]
    },
    {
     "name": "stdout",
     "output_type": "stream",
     "text": [
      "\n",
      "Found 'U.SA' → Did you mean 'United States'? (confidence 68%)\n"
     ]
    },
    {
     "name": "stdin",
     "output_type": "stream",
     "text": [
      "Accept suggestion? (y/n):  y\n"
     ]
    },
    {
     "name": "stdout",
     "output_type": "stream",
     "text": [
      "\n",
      "Found 'United Kindom' → Did you mean 'United Kingdom'? (confidence 96%)\n"
     ]
    },
    {
     "name": "stdin",
     "output_type": "stream",
     "text": [
      "Accept suggestion? (y/n):  y\n"
     ]
    },
    {
     "name": "stdout",
     "output_type": "stream",
     "text": [
      "\n",
      "Found 'United Status' → Did you mean 'United States'? (confidence 92%)\n"
     ]
    },
    {
     "name": "stdin",
     "output_type": "stream",
     "text": [
      "Accept suggestion? (y/n):  y\n"
     ]
    },
    {
     "name": "stdout",
     "output_type": "stream",
     "text": [
      "\n",
      "Found 'Currently finance' → Did you mean 'Finland'? (confidence 64%)\n"
     ]
    },
    {
     "name": "stdin",
     "output_type": "stream",
     "text": [
      "Accept suggestion? (y/n):  n\n",
      "Enter the correct country:  \n"
     ]
    },
    {
     "name": "stdout",
     "output_type": "stream",
     "text": [
      "\n",
      "Found 'UXZ' → Did you mean 'Luxembourg'? (confidence 60%)\n"
     ]
    },
    {
     "name": "stdin",
     "output_type": "stream",
     "text": [
      "Accept suggestion? (y/n):  n\n",
      "Enter the correct country:  \n"
     ]
    },
    {
     "name": "stdout",
     "output_type": "stream",
     "text": [
      "\n",
      "Found 'England, UK' → Did you mean 'Finland'? (confidence 64%)\n"
     ]
    },
    {
     "name": "stdin",
     "output_type": "stream",
     "text": [
      "Accept suggestion? (y/n):  n\n",
      "Enter the correct country:  United Kingdom\n"
     ]
    },
    {
     "name": "stdout",
     "output_type": "stream",
     "text": [
      "\n",
      "Found 'Canda' → Did you mean 'Canada'? (confidence 91%)\n"
     ]
    },
    {
     "name": "stdin",
     "output_type": "stream",
     "text": [
      "Accept suggestion? (y/n):  y\n"
     ]
    },
    {
     "name": "stdout",
     "output_type": "stream",
     "text": [
      "\n",
      "Found 'Canada and USA' → Did you mean 'Canada'? (confidence 90%)\n"
     ]
    },
    {
     "name": "stdin",
     "output_type": "stream",
     "text": [
      "Accept suggestion? (y/n):  y\n"
     ]
    },
    {
     "name": "stdout",
     "output_type": "stream",
     "text": [
      "\n",
      "Found 'Catalonia' → Did you mean 'Australia'? (confidence 67%)\n"
     ]
    },
    {
     "name": "stdin",
     "output_type": "stream",
     "text": [
      "Accept suggestion? (y/n):  n\n",
      "Enter the correct country:  Spain\n"
     ]
    },
    {
     "name": "stdout",
     "output_type": "stream",
     "text": [
      "\n",
      "Found '$2,175.84/year is deducted for benefits' → Did you mean 'Côte d'Ivoire'? (confidence 60%)\n"
     ]
    },
    {
     "name": "stdin",
     "output_type": "stream",
     "text": [
      "Accept suggestion? (y/n):  n\n",
      "Enter the correct country:  \n"
     ]
    },
    {
     "name": "stdout",
     "output_type": "stream",
     "text": [
      "\n",
      "Found 'Italy (South)' → Did you mean 'Italy'? (confidence 90%)\n"
     ]
    },
    {
     "name": "stdin",
     "output_type": "stream",
     "text": [
      "Accept suggestion? (y/n):  y\n"
     ]
    },
    {
     "name": "stdout",
     "output_type": "stream",
     "text": [
      "\n",
      "Found 'Jersey, Channel islands' → Did you mean 'Finland'? (confidence 64%)\n"
     ]
    },
    {
     "name": "stdin",
     "output_type": "stream",
     "text": [
      "Accept suggestion? (y/n):  n\n",
      "Enter the correct country:  United Kingdom\n"
     ]
    },
    {
     "name": "stdout",
     "output_type": "stream",
     "text": [
      "\n",
      "Found 'Virginia' → Did you mean 'India'? (confidence 80%)\n"
     ]
    },
    {
     "name": "stdin",
     "output_type": "stream",
     "text": [
      "Accept suggestion? (y/n):  n\n",
      "Enter the correct country:  United States\n"
     ]
    },
    {
     "name": "stdout",
     "output_type": "stream",
     "text": [
      "\n",
      "Found 'USS' → Did you mean 'Russia'? (confidence 90%)\n"
     ]
    },
    {
     "name": "stdin",
     "output_type": "stream",
     "text": [
      "Accept suggestion? (y/n):  y\n"
     ]
    },
    {
     "name": "stdout",
     "output_type": "stream",
     "text": [
      "\n",
      "Found 'Uniteed States' → Did you mean 'United States'? (confidence 96%)\n"
     ]
    },
    {
     "name": "stdin",
     "output_type": "stream",
     "text": [
      "Accept suggestion? (y/n):  y\n"
     ]
    },
    {
     "name": "stdout",
     "output_type": "stream",
     "text": [
      "\n",
      "Found 'Hartford' → Did you mean 'Qatar'? (confidence 46%)\n"
     ]
    },
    {
     "name": "stdin",
     "output_type": "stream",
     "text": [
      "Accept suggestion? (y/n):  n\n",
      "Enter the correct country:  \n"
     ]
    },
    {
     "name": "stdout",
     "output_type": "stream",
     "text": [
      "\n",
      "Found 'Japan, US Gov position' → Did you mean 'Japan'? (confidence 90%)\n"
     ]
    },
    {
     "name": "stdin",
     "output_type": "stream",
     "text": [
      "Accept suggestion? (y/n):  y\n"
     ]
    },
    {
     "name": "stdout",
     "output_type": "stream",
     "text": [
      "\n",
      "Found 'Csnada' → Did you mean 'Canada'? (confidence 83%)\n"
     ]
    },
    {
     "name": "stdin",
     "output_type": "stream",
     "text": [
      "Accept suggestion? (y/n):  y\n"
     ]
    },
    {
     "name": "stdout",
     "output_type": "stream",
     "text": [
      "\n",
      "Found 'United Stares' → Did you mean 'United States'? (confidence 92%)\n"
     ]
    },
    {
     "name": "stdin",
     "output_type": "stream",
     "text": [
      "Accept suggestion? (y/n):  y\n"
     ]
    },
    {
     "name": "stdout",
     "output_type": "stream",
     "text": [
      "\n",
      "Found 'Mainland China' → Did you mean 'China'? (confidence 90%)\n"
     ]
    },
    {
     "name": "stdin",
     "output_type": "stream",
     "text": [
      "Accept suggestion? (y/n):  y\n"
     ]
    },
    {
     "name": "stdout",
     "output_type": "stream",
     "text": [
      "\n",
      "Found 'I.S.' → Did you mean 'Afghanistan'? (confidence 60%)\n"
     ]
    },
    {
     "name": "stdin",
     "output_type": "stream",
     "text": [
      "Accept suggestion? (y/n):  n\n",
      "Enter the correct country:  United States\n"
     ]
    },
    {
     "name": "stdout",
     "output_type": "stream",
     "text": [
      "\n",
      "Found 'UK (Northern Ireland)' → Did you mean 'Ireland'? (confidence 90%)\n"
     ]
    },
    {
     "name": "stdin",
     "output_type": "stream",
     "text": [
      "Accept suggestion? (y/n):  n\n",
      "Enter the correct country:  United Kingdom\n"
     ]
    },
    {
     "name": "stdout",
     "output_type": "stream",
     "text": [
      "\n",
      "Found 'UK for U.S. company' → Did you mean 'Romania'? (confidence 56%)\n"
     ]
    },
    {
     "name": "stdin",
     "output_type": "stream",
     "text": [
      "Accept suggestion? (y/n):  n\n",
      "Enter the correct country:  United Kingdom\n"
     ]
    },
    {
     "name": "stdout",
     "output_type": "stream",
     "text": [
      "\n",
      "Found 'NZ' → Did you mean 'Tanzania'? (confidence 90%)\n"
     ]
    },
    {
     "name": "stdin",
     "output_type": "stream",
     "text": [
      "Accept suggestion? (y/n):  n\n",
      "Enter the correct country:  New Zealand\n"
     ]
    },
    {
     "name": "stdout",
     "output_type": "stream",
     "text": [
      "\n",
      "Found 'Canad' → Did you mean 'Canada'? (confidence 91%)\n"
     ]
    },
    {
     "name": "stdin",
     "output_type": "stream",
     "text": [
      "Accept suggestion? (y/n):  y\n"
     ]
    },
    {
     "name": "stdout",
     "output_type": "stream",
     "text": [
      "\n",
      "Found 'Unite States' → Did you mean 'United States'? (confidence 96%)\n"
     ]
    },
    {
     "name": "stdin",
     "output_type": "stream",
     "text": [
      "Accept suggestion? (y/n):  y\n"
     ]
    },
    {
     "name": "stdout",
     "output_type": "stream",
     "text": [
      "\n",
      "Found 'The US' → Did you mean 'United States'? (confidence 60%)\n"
     ]
    },
    {
     "name": "stdin",
     "output_type": "stream",
     "text": [
      "Accept suggestion? (y/n):  y\n"
     ]
    },
    {
     "name": "stdout",
     "output_type": "stream",
     "text": [
      "\n",
      "Found 'Remote' → Did you mean 'Greece'? (confidence 50%)\n"
     ]
    },
    {
     "name": "stdin",
     "output_type": "stream",
     "text": [
      "Accept suggestion? (y/n):  n\n",
      "Enter the correct country:  \n"
     ]
    },
    {
     "name": "stdout",
     "output_type": "stream",
     "text": [
      "\n",
      "Found 'For the United States government, but posted overseas' → Did you mean 'United States'? (confidence 90%)\n"
     ]
    },
    {
     "name": "stdin",
     "output_type": "stream",
     "text": [
      "Accept suggestion? (y/n):  y\n"
     ]
    },
    {
     "name": "stdout",
     "output_type": "stream",
     "text": [
      "\n",
      "Found 'IS' → Did you mean 'Afghanistan'? (confidence 90%)\n"
     ]
    },
    {
     "name": "stdin",
     "output_type": "stream",
     "text": [
      "Accept suggestion? (y/n):  n\n",
      "Enter the correct country:  \n"
     ]
    },
    {
     "name": "stdout",
     "output_type": "stream",
     "text": [
      "\n",
      "Found 'United Kingdomk' → Did you mean 'United Kingdom'? (confidence 97%)\n"
     ]
    },
    {
     "name": "stdin",
     "output_type": "stream",
     "text": [
      "Accept suggestion? (y/n):  y\n"
     ]
    },
    {
     "name": "stdout",
     "output_type": "stream",
     "text": [
      "\n",
      "Found 'Australi' → Did you mean 'Australia'? (confidence 94%)\n"
     ]
    },
    {
     "name": "stdin",
     "output_type": "stream",
     "text": [
      "Accept suggestion? (y/n):  y\n"
     ]
    },
    {
     "name": "stdout",
     "output_type": "stream",
     "text": [
      "\n",
      "Found 'Cote d'Ivoire' → Did you mean 'Côte d'Ivoire'? (confidence 96%)\n"
     ]
    },
    {
     "name": "stdin",
     "output_type": "stream",
     "text": [
      "Accept suggestion? (y/n):  y\n"
     ]
    },
    {
     "name": "stdout",
     "output_type": "stream",
     "text": [
      "\n",
      "Found 'From Romania, but for an US based company' → Did you mean 'Romania'? (confidence 90%)\n"
     ]
    },
    {
     "name": "stdin",
     "output_type": "stream",
     "text": [
      "Accept suggestion? (y/n):  y\n"
     ]
    },
    {
     "name": "stdout",
     "output_type": "stream",
     "text": [
      "\n",
      "Found 'Wales (United Kingdom)' → Did you mean 'United Kingdom'? (confidence 90%)\n"
     ]
    },
    {
     "name": "stdin",
     "output_type": "stream",
     "text": [
      "Accept suggestion? (y/n):  y\n"
     ]
    },
    {
     "name": "stdout",
     "output_type": "stream",
     "text": [
      "\n",
      "Found 'England, Gb' → Did you mean 'Finland'? (confidence 64%)\n"
     ]
    },
    {
     "name": "stdin",
     "output_type": "stream",
     "text": [
      "Accept suggestion? (y/n):  n\n",
      "Enter the correct country:  United Kingdom\n"
     ]
    },
    {
     "name": "stdout",
     "output_type": "stream",
     "text": [
      "\n",
      "Found 'UnitedStates' → Did you mean 'United States'? (confidence 96%)\n"
     ]
    },
    {
     "name": "stdin",
     "output_type": "stream",
     "text": [
      "Accept suggestion? (y/n):  y\n"
     ]
    },
    {
     "name": "stdout",
     "output_type": "stream",
     "text": [
      "\n",
      "Found 'Danmark' → Did you mean 'Denmark'? (confidence 86%)\n"
     ]
    },
    {
     "name": "stdin",
     "output_type": "stream",
     "text": [
      "Accept suggestion? (y/n):  y\n"
     ]
    },
    {
     "name": "stdout",
     "output_type": "stream",
     "text": [
      "\n",
      "Found 'U.K. (northern England)' → Did you mean 'Uganda'? (confidence 66%)\n"
     ]
    },
    {
     "name": "stdin",
     "output_type": "stream",
     "text": [
      "Accept suggestion? (y/n):  n\n",
      "Enter the correct country:  United Kingdom\n"
     ]
    },
    {
     "name": "stdout",
     "output_type": "stream",
     "text": [
      "\n",
      "Found 'NL' → Did you mean 'Finland'? (confidence 90%)\n"
     ]
    },
    {
     "name": "stdin",
     "output_type": "stream",
     "text": [
      "Accept suggestion? (y/n):  n\n",
      "Enter the correct country:  Netherlands\n"
     ]
    },
    {
     "name": "stdout",
     "output_type": "stream",
     "text": [
      "\n",
      "Found 'Nederland' → Did you mean 'Netherlands'? (confidence 80%)\n"
     ]
    },
    {
     "name": "stdin",
     "output_type": "stream",
     "text": [
      "Accept suggestion? (y/n):  y\n"
     ]
    },
    {
     "name": "stdout",
     "output_type": "stream",
     "text": [
      "\n",
      "Found 'England, United Kingdom' → Did you mean 'United Kingdom'? (confidence 90%)\n"
     ]
    },
    {
     "name": "stdin",
     "output_type": "stream",
     "text": [
      "Accept suggestion? (y/n):  y\n"
     ]
    },
    {
     "name": "stdout",
     "output_type": "stream",
     "text": [
      "\n",
      "Found 'Englang' → Did you mean 'Finland'? (confidence 57%)\n"
     ]
    },
    {
     "name": "stdin",
     "output_type": "stream",
     "text": [
      "Accept suggestion? (y/n):  n\n",
      "Enter the correct country:  United Kingdom\n"
     ]
    },
    {
     "name": "stdout",
     "output_type": "stream",
     "text": [
      "\n",
      "Found 'United statew' → Did you mean 'United States'? (confidence 92%)\n"
     ]
    },
    {
     "name": "stdin",
     "output_type": "stream",
     "text": [
      "Accept suggestion? (y/n):  y\n"
     ]
    },
    {
     "name": "stdout",
     "output_type": "stream",
     "text": [
      "\n",
      "Found 'UAE' → Did you mean 'Bangladesh'? (confidence 60%)\n"
     ]
    },
    {
     "name": "stdin",
     "output_type": "stream",
     "text": [
      "Accept suggestion? (y/n):  n\n",
      "Enter the correct country:  United Arab Emirates\n"
     ]
    },
    {
     "name": "stdout",
     "output_type": "stream",
     "text": [
      "\n",
      "Found 'bonus based on meeting yearly goals set w/ my supervisor' → Did you mean 'Eritrea'? (confidence 51%)\n"
     ]
    },
    {
     "name": "stdin",
     "output_type": "stream",
     "text": [
      "Accept suggestion? (y/n):  n\n",
      "Enter the correct country:  \n"
     ]
    },
    {
     "name": "stdout",
     "output_type": "stream",
     "text": [
      "\n",
      "Found 'International ' → Did you mean 'Latvia'? (confidence 60%)\n"
     ]
    },
    {
     "name": "stdin",
     "output_type": "stream",
     "text": [
      "Accept suggestion? (y/n):  n\n",
      "Enter the correct country:  \n"
     ]
    },
    {
     "name": "stdout",
     "output_type": "stream",
     "text": [
      "\n",
      "Found 'The Bahamas ' → Did you mean 'Panama'? (confidence 60%)\n"
     ]
    },
    {
     "name": "stdin",
     "output_type": "stream",
     "text": [
      "Accept suggestion? (y/n):  Bahamas\n",
      "Enter the correct country:  The Bahamas\n"
     ]
    },
    {
     "name": "stdout",
     "output_type": "stream",
     "text": [
      "\n",
      "Found 'I earn commission on sales. If I meet quota, I'm guaranteed another 16k min. Last year i earned an additional 27k. It's not uncommon for people in my space to earn 100k+ after commission. ' → Did you mean 'France'? (confidence 40%)\n"
     ]
    },
    {
     "name": "stdin",
     "output_type": "stream",
     "text": [
      "Accept suggestion? (y/n):  n\n",
      "Enter the correct country:  \n"
     ]
    },
    {
     "name": "stdout",
     "output_type": "stream",
     "text": [
      "\n",
      "Found 'United Statues' → Did you mean 'United States'? (confidence 96%)\n"
     ]
    },
    {
     "name": "stdin",
     "output_type": "stream",
     "text": [
      "Accept suggestion? (y/n):  y\n"
     ]
    },
    {
     "name": "stdout",
     "output_type": "stream",
     "text": [
      "\n",
      "Found 'Untied States' → Did you mean 'United States'? (confidence 92%)\n"
     ]
    },
    {
     "name": "stdin",
     "output_type": "stream",
     "text": [
      "Accept suggestion? (y/n):  y\n"
     ]
    },
    {
     "name": "stdout",
     "output_type": "stream",
     "text": [
      "\n",
      "Found 'USA (company is based in a US territory, I work remote)' → Did you mean 'Eritrea'? (confidence 64%)\n"
     ]
    },
    {
     "name": "stdin",
     "output_type": "stream",
     "text": [
      "Accept suggestion? (y/n):  n\n",
      "Enter the correct country:  United States\n"
     ]
    },
    {
     "name": "stdout",
     "output_type": "stream",
     "text": [
      "\n",
      "Found 'UK (England)' → Did you mean 'Uganda'? (confidence 66%)\n"
     ]
    },
    {
     "name": "stdin",
     "output_type": "stream",
     "text": [
      "Accept suggestion? (y/n):  n\n",
      "Enter the correct country:  United Kingdom\n"
     ]
    },
    {
     "name": "stdout",
     "output_type": "stream",
     "text": [
      "\n",
      "Found 'UK, remote' → Did you mean 'United Arab Emirates'? (confidence 48%)\n"
     ]
    },
    {
     "name": "stdin",
     "output_type": "stream",
     "text": [
      "Accept suggestion? (y/n):  n\n",
      "Enter the correct country:  United Kingdom\n"
     ]
    },
    {
     "name": "stdout",
     "output_type": "stream",
     "text": [
      "\n",
      "Found 'Scotland, UK' → Did you mean 'Poland'? (confidence 75%)\n"
     ]
    },
    {
     "name": "stdin",
     "output_type": "stream",
     "text": [
      "Accept suggestion? (y/n):  n\n",
      "Enter the correct country:  United Kingdom\n"
     ]
    },
    {
     "name": "stdout",
     "output_type": "stream",
     "text": [
      "\n",
      "Found 'USAB' → Did you mean 'Cyprus'? (confidence 60%)\n"
     ]
    },
    {
     "name": "stdin",
     "output_type": "stream",
     "text": [
      "Accept suggestion? (y/n):  n\n",
      "Enter the correct country:  United States\n"
     ]
    },
    {
     "name": "stdout",
     "output_type": "stream",
     "text": [
      "\n",
      "Found 'Unitied States' → Did you mean 'United States'? (confidence 96%)\n"
     ]
    },
    {
     "name": "stdin",
     "output_type": "stream",
     "text": [
      "Accept suggestion? (y/n):  y\n"
     ]
    },
    {
     "name": "stdout",
     "output_type": "stream",
     "text": [
      "\n",
      "Found 'United Sttes' → Did you mean 'United States'? (confidence 96%)\n"
     ]
    },
    {
     "name": "stdin",
     "output_type": "stream",
     "text": [
      "Accept suggestion? (y/n):  y\n"
     ]
    },
    {
     "name": "stdout",
     "output_type": "stream",
     "text": [
      "\n",
      "Found 'Remote (philippines)' → Did you mean 'Philippines'? (confidence 90%)\n"
     ]
    },
    {
     "name": "stdin",
     "output_type": "stream",
     "text": [
      "Accept suggestion? (y/n):  y\n"
     ]
    },
    {
     "name": "stdout",
     "output_type": "stream",
     "text": [
      "\n",
      "Found 'Unites kingdom ' → Did you mean 'United Kingdom'? (confidence 93%)\n"
     ]
    },
    {
     "name": "stdin",
     "output_type": "stream",
     "text": [
      "Accept suggestion? (y/n):  y\n"
     ]
    },
    {
     "name": "stdout",
     "output_type": "stream",
     "text": [
      "\n",
      "Found 'Panamá' → Did you mean 'Panama'? (confidence 91%)\n"
     ]
    },
    {
     "name": "stdin",
     "output_type": "stream",
     "text": [
      "Accept suggestion? (y/n):  y\n"
     ]
    },
    {
     "name": "stdout",
     "output_type": "stream",
     "text": [
      "\n",
      "Found 'Austria, but I work remotely for a Dutch/British company' → Did you mean 'Austria'? (confidence 90%)\n"
     ]
    },
    {
     "name": "stdin",
     "output_type": "stream",
     "text": [
      "Accept suggestion? (y/n):  y\n"
     ]
    },
    {
     "name": "stdout",
     "output_type": "stream",
     "text": [
      "\n",
      "Found 'I work for an US based company but I'm from Argentina.' → Did you mean 'Argentina'? (confidence 90%)\n"
     ]
    },
    {
     "name": "stdin",
     "output_type": "stream",
     "text": [
      "Accept suggestion? (y/n):  n\n",
      "Enter the correct country:  Argentina\n"
     ]
    },
    {
     "name": "stdout",
     "output_type": "stream",
     "text": [
      "\n",
      "Found 'I was brought in on this salary to help with the EHR and very quickly was promoted to current position but compensation was not altered. ' → Did you mean 'Bosnia and Herzegovina'? (confidence 86%)\n"
     ]
    },
    {
     "name": "stdin",
     "output_type": "stream",
     "text": [
      "Accept suggestion? (y/n):  n\n",
      "Enter the correct country:  \n"
     ]
    },
    {
     "name": "stdout",
     "output_type": "stream",
     "text": [
      "\n",
      "Found 'Uniter Statez' → Did you mean 'United States'? (confidence 85%)\n"
     ]
    },
    {
     "name": "stdin",
     "output_type": "stream",
     "text": [
      "Accept suggestion? (y/n):  y\n"
     ]
    },
    {
     "name": "stdout",
     "output_type": "stream",
     "text": [
      "\n",
      "Found 'U. S ' → Did you mean 'United Arab Emirates'? (confidence 86%)\n"
     ]
    },
    {
     "name": "stdin",
     "output_type": "stream",
     "text": [
      "Accept suggestion? (y/n):  n\n",
      "Enter the correct country:  United States\n"
     ]
    },
    {
     "name": "stdout",
     "output_type": "stream",
     "text": [
      "\n",
      "Found 'USA tomorrow ' → Did you mean 'Morocco'? (confidence 51%)\n"
     ]
    },
    {
     "name": "stdin",
     "output_type": "stream",
     "text": [
      "Accept suggestion? (y/n):  n\n",
      "Enter the correct country:  United States\n"
     ]
    },
    {
     "name": "stdout",
     "output_type": "stream",
     "text": [
      "\n",
      "Found 'United Stateds' → Did you mean 'United States'? (confidence 96%)\n"
     ]
    },
    {
     "name": "stdin",
     "output_type": "stream",
     "text": [
      "Accept suggestion? (y/n):  y\n"
     ]
    },
    {
     "name": "stdout",
     "output_type": "stream",
     "text": [
      "\n",
      "Found 'n/a (remote from wherever I want)' → Did you mean 'Taiwan'? (confidence 60%)\n"
     ]
    },
    {
     "name": "stdin",
     "output_type": "stream",
     "text": [
      "Accept suggestion? (y/n):  n\n",
      "Enter the correct country:  \n"
     ]
    },
    {
     "name": "stdout",
     "output_type": "stream",
     "text": [
      "\n",
      "Found 'US govt employee overseas, country withheld' → Did you mean 'Kuwait'? (confidence 57%)\n"
     ]
    },
    {
     "name": "stdin",
     "output_type": "stream",
     "text": [
      "Accept suggestion? (y/n):  n\n",
      "Enter the correct country:  United States\n"
     ]
    },
    {
     "name": "stdout",
     "output_type": "stream",
     "text": [
      "\n",
      "Found 'Africa' → Did you mean 'South Africa'? (confidence 90%)\n"
     ]
    },
    {
     "name": "stdin",
     "output_type": "stream",
     "text": [
      "Accept suggestion? (y/n):  n\n",
      "Enter the correct country:  \n"
     ]
    },
    {
     "name": "stdout",
     "output_type": "stream",
     "text": [
      "\n",
      "Found 'San Francisco' → Did you mean 'France'? (confidence 75%)\n"
     ]
    },
    {
     "name": "stdin",
     "output_type": "stream",
     "text": [
      "Accept suggestion? (y/n):  n\n",
      "Enter the correct country:  United States\n"
     ]
    },
    {
     "name": "stdout",
     "output_type": "stream",
     "text": [
      "\n",
      "Found 'Usat' → Did you mean 'Australia'? (confidence 68%)\n"
     ]
    },
    {
     "name": "stdin",
     "output_type": "stream",
     "text": [
      "Accept suggestion? (y/n):  n\n",
      "Enter the correct country:  United States\n"
     ]
    },
    {
     "name": "stderr",
     "output_type": "stream",
     "text": [
      "WARNING:root:Applied processor reduces input query to empty string, all comparisons will have score 0. [Query: '🇺🇸 ']\n"
     ]
    },
    {
     "name": "stdout",
     "output_type": "stream",
     "text": [
      "\n",
      "Found '🇺🇸 ' → Did you mean 'Afghanistan'? (confidence 0%)\n"
     ]
    },
    {
     "name": "stdin",
     "output_type": "stream",
     "text": [
      "Accept suggestion? (y/n):  n\n",
      "Enter the correct country:  United States\n"
     ]
    },
    {
     "name": "stdout",
     "output_type": "stream",
     "text": [
      "\n",
      "Found 'Luxemburg' → Did you mean 'Luxembourg'? (confidence 95%)\n"
     ]
    },
    {
     "name": "stdin",
     "output_type": "stream",
     "text": [
      "Accept suggestion? (y/n):  y\n"
     ]
    },
    {
     "name": "stdout",
     "output_type": "stream",
     "text": [
      "\n",
      "Found 'Unitef Stated' → Did you mean 'United States'? (confidence 85%)\n"
     ]
    },
    {
     "name": "stdin",
     "output_type": "stream",
     "text": [
      "Accept suggestion? (y/n):  y\n"
     ]
    },
    {
     "name": "stdout",
     "output_type": "stream",
     "text": [
      "\n",
      "Found 'UA' → Did you mean 'Ecuador'? (confidence 90%)\n"
     ]
    },
    {
     "name": "stdin",
     "output_type": "stream",
     "text": [
      "Accept suggestion? (y/n):  n\n",
      "Enter the correct country:  \n"
     ]
    },
    {
     "name": "stdout",
     "output_type": "stream",
     "text": [
      "\n",
      "Found 'Wales, UK' → Did you mean 'Ukraine'? (confidence 50%)\n"
     ]
    },
    {
     "name": "stdin",
     "output_type": "stream",
     "text": [
      "Accept suggestion? (y/n):  n\n",
      "Enter the correct country:  United Kingdom\n"
     ]
    },
    {
     "name": "stdout",
     "output_type": "stream",
     "text": [
      "\n",
      "Found 'USaa' → Did you mean 'Australia'? (confidence 62%)\n"
     ]
    },
    {
     "name": "stdin",
     "output_type": "stream",
     "text": [
      "Accept suggestion? (y/n):  n\n",
      "Enter the correct country:  United States\n"
     ]
    },
    {
     "name": "stdout",
     "output_type": "stream",
     "text": [
      "\n",
      "Found 'United States- Puerto Rico' → Did you mean 'United States'? (confidence 90%)\n"
     ]
    },
    {
     "name": "stdin",
     "output_type": "stream",
     "text": [
      "Accept suggestion? (y/n):  y\n"
     ]
    },
    {
     "name": "stdout",
     "output_type": "stream",
     "text": [
      "\n",
      "Found 'From New Zealand but on projects across APAC' → Did you mean 'New Zealand'? (confidence 90%)\n"
     ]
    },
    {
     "name": "stdin",
     "output_type": "stream",
     "text": [
      "Accept suggestion? (y/n):  y\n"
     ]
    },
    {
     "name": "stdout",
     "output_type": "stream",
     "text": [
      "\n",
      "Found 'Y' → Did you mean 'Myanmar'? (confidence 90%)\n"
     ]
    },
    {
     "name": "stdin",
     "output_type": "stream",
     "text": [
      "Accept suggestion? (y/n):  n\n",
      "Enter the correct country:  \n"
     ]
    },
    {
     "name": "stdout",
     "output_type": "stream",
     "text": [
      "\n",
      "Found 'United y' → Did you mean 'United Arab Emirates'? (confidence 86%)\n"
     ]
    },
    {
     "name": "stdin",
     "output_type": "stream",
     "text": [
      "Accept suggestion? (y/n):  n\n",
      "Enter the correct country:  \n"
     ]
    },
    {
     "name": "stdout",
     "output_type": "stream",
     "text": [
      "\n",
      "Found 'Wales (UK)' → Did you mean 'Ukraine'? (confidence 50%)\n"
     ]
    },
    {
     "name": "stdin",
     "output_type": "stream",
     "text": [
      "Accept suggestion? (y/n):  n\n",
      "Enter the correct country:  United Kingdom\n"
     ]
    },
    {
     "name": "stdout",
     "output_type": "stream",
     "text": [
      "\n",
      "Found 'Isle of Man' → Did you mean 'Chile'? (confidence 54%)\n"
     ]
    },
    {
     "name": "stdin",
     "output_type": "stream",
     "text": [
      "Accept suggestion? (y/n):  n\n",
      "Enter the correct country:  United Kingdom\n"
     ]
    },
    {
     "name": "stdout",
     "output_type": "stream",
     "text": [
      "\n",
      "Found 'Northern Ireland, United Kingdom' → Did you mean 'Ireland'? (confidence 90%)\n"
     ]
    },
    {
     "name": "stdin",
     "output_type": "stream",
     "text": [
      "Accept suggestion? (y/n):  n\n",
      "Enter the correct country:  United Kingdom\n"
     ]
    },
    {
     "name": "stdout",
     "output_type": "stream",
     "text": [
      "\n",
      "Found 'europe' → Did you mean 'Turkey'? (confidence 50%)\n"
     ]
    },
    {
     "name": "stdin",
     "output_type": "stream",
     "text": [
      "Accept suggestion? (y/n):  n\n",
      "Enter the correct country:  \n"
     ]
    },
    {
     "name": "stdout",
     "output_type": "stream",
     "text": [
      "\n",
      "Found 'California ' → Did you mean 'India'? (confidence 60%)\n"
     ]
    },
    {
     "name": "stdin",
     "output_type": "stream",
     "text": [
      "Accept suggestion? (y/n):  n\n",
      "Enter the correct country:  United States\n"
     ]
    },
    {
     "name": "stdout",
     "output_type": "stream",
     "text": [
      "\n",
      "Found 'UK, but for globally fully remote company' → Did you mean 'Romania'? (confidence 56%)\n"
     ]
    },
    {
     "name": "stdin",
     "output_type": "stream",
     "text": [
      "Accept suggestion? (y/n):  n\n",
      "Enter the correct country:  United Kingdom\n"
     ]
    },
    {
     "name": "stdout",
     "output_type": "stream",
     "text": [
      "\n",
      "Found 'Australian ' → Did you mean 'Australia'? (confidence 95%)\n"
     ]
    },
    {
     "name": "stdin",
     "output_type": "stream",
     "text": [
      "Accept suggestion? (y/n):  y\n"
     ]
    },
    {
     "name": "stdout",
     "output_type": "stream",
     "text": [
      "\n",
      "Found 'México' → Did you mean 'Mexico'? (confidence 91%)\n"
     ]
    },
    {
     "name": "stdin",
     "output_type": "stream",
     "text": [
      "Accept suggestion? (y/n):  y\n"
     ]
    },
    {
     "name": "stdout",
     "output_type": "stream",
     "text": [
      "\n",
      "Found 'USD' → Did you mean 'Cyprus'? (confidence 72%)\n"
     ]
    },
    {
     "name": "stdin",
     "output_type": "stream",
     "text": [
      "Accept suggestion? (y/n):  n\n",
      "Enter the correct country:  United States\n"
     ]
    },
    {
     "name": "stdout",
     "output_type": "stream",
     "text": [
      "\n",
      "Found 'USA, but for foreign gov't' → Did you mean 'Congo'? (confidence 54%)\n"
     ]
    },
    {
     "name": "stdin",
     "output_type": "stream",
     "text": [
      "Accept suggestion? (y/n):  n\n",
      "Enter the correct country:  United States\n"
     ]
    },
    {
     "name": "stdout",
     "output_type": "stream",
     "text": [
      "\n",
      "Found 'United Statss' → Did you mean 'United States'? (confidence 92%)\n"
     ]
    },
    {
     "name": "stdin",
     "output_type": "stream",
     "text": [
      "Accept suggestion? (y/n):  y\n"
     ]
    },
    {
     "name": "stdout",
     "output_type": "stream",
     "text": [
      "\n",
      "Found 'ARGENTINA BUT MY ORG IS IN THAILAND' → Did you mean 'Argentina'? (confidence 90%)\n"
     ]
    },
    {
     "name": "stdin",
     "output_type": "stream",
     "text": [
      "Accept suggestion? (y/n):  y\n"
     ]
    },
    {
     "name": "stdout",
     "output_type": "stream",
     "text": [
      "\n",
      "Found 'I work for a UAE-based organization, though I am personally in the US.' → Did you mean 'Argentina'? (confidence 50%)\n"
     ]
    },
    {
     "name": "stdin",
     "output_type": "stream",
     "text": [
      "Accept suggestion? (y/n):  United Arab Emirates\n",
      "Enter the correct country:  United Arab Emirates\n"
     ]
    },
    {
     "name": "stdout",
     "output_type": "stream",
     "text": [
      "\n",
      "Found 'United  States' → Did you mean 'United States'? (confidence 96%)\n"
     ]
    },
    {
     "name": "stdin",
     "output_type": "stream",
     "text": [
      "Accept suggestion? (y/n):  y\n"
     ]
    },
    {
     "name": "stdout",
     "output_type": "stream",
     "text": [
      "\n",
      "Found 'Aotearoa New Zealand' → Did you mean 'New Zealand'? (confidence 90%)\n"
     ]
    },
    {
     "name": "stdin",
     "output_type": "stream",
     "text": [
      "Accept suggestion? (y/n):  y\n"
     ]
    },
    {
     "name": "stdout",
     "output_type": "stream",
     "text": [
      "\n",
      "Found 'na' → Did you mean 'Argentina'? (confidence 90%)\n"
     ]
    },
    {
     "name": "stdin",
     "output_type": "stream",
     "text": [
      "Accept suggestion? (y/n):  n\n",
      "Enter the correct country:  \n"
     ]
    },
    {
     "name": "stdout",
     "output_type": "stream",
     "text": [
      "\n",
      "Found 'Policy' → Did you mean 'Czech Republic'? (confidence 60%)\n"
     ]
    },
    {
     "name": "stdin",
     "output_type": "stream",
     "text": [
      "Accept suggestion? (y/n):  n\n",
      "Enter the correct country:  \n"
     ]
    },
    {
     "name": "stdout",
     "output_type": "stream",
     "text": [
      "\n",
      "Found 'hong konh' → Did you mean 'Congo'? (confidence 57%)\n"
     ]
    },
    {
     "name": "stdin",
     "output_type": "stream",
     "text": [
      "Accept suggestion? (y/n):  n\n",
      "Enter the correct country:  China\n"
     ]
    },
    {
     "name": "stdout",
     "output_type": "stream",
     "text": [
      "\n",
      "Found 'United States is America' → Did you mean 'United States'? (confidence 90%)\n"
     ]
    },
    {
     "name": "stdin",
     "output_type": "stream",
     "text": [
      "Accept suggestion? (y/n):  y\n"
     ]
    },
    {
     "name": "stdout",
     "output_type": "stream",
     "text": [
      "\n",
      "Found 'Company in Germany. I work from Pakistan.' → Did you mean 'Germany'? (confidence 90%)\n"
     ]
    },
    {
     "name": "stdin",
     "output_type": "stream",
     "text": [
      "Accept suggestion? (y/n):  n\n",
      "Enter the correct country:  Pakistan\n"
     ]
    },
    {
     "name": "stdout",
     "output_type": "stream",
     "text": [
      "\n",
      "Found 'Canadá' → Did you mean 'Canada'? (confidence 91%)\n"
     ]
    },
    {
     "name": "stdin",
     "output_type": "stream",
     "text": [
      "Accept suggestion? (y/n):  y\n"
     ]
    },
    {
     "name": "stdout",
     "output_type": "stream",
     "text": [
      "\n",
      "Found 'London' → Did you mean 'Indonesia'? (confidence 60%)\n"
     ]
    },
    {
     "name": "stdin",
     "output_type": "stream",
     "text": [
      "Accept suggestion? (y/n):  n\n",
      "Enter the correct country:  United Kingdom\n"
     ]
    },
    {
     "name": "stdout",
     "output_type": "stream",
     "text": [
      "\n",
      "Found 'ss' → Did you mean 'Russia'? (confidence 90%)\n"
     ]
    },
    {
     "name": "stdin",
     "output_type": "stream",
     "text": [
      "Accept suggestion? (y/n):  n\n",
      "Enter the correct country:  \n"
     ]
    },
    {
     "name": "stdout",
     "output_type": "stream",
     "text": [
      "\n",
      "Found 'dbfemf' → Did you mean 'Belgium'? (confidence 46%)\n"
     ]
    },
    {
     "name": "stdin",
     "output_type": "stream",
     "text": [
      "Accept suggestion? (y/n):  n\n",
      "Enter the correct country:  \n"
     ]
    },
    {
     "name": "stdout",
     "output_type": "stream",
     "text": [
      "\n",
      "Found 'ibdia' → Did you mean 'India'? (confidence 80%)\n"
     ]
    },
    {
     "name": "stdin",
     "output_type": "stream",
     "text": [
      "Accept suggestion? (y/n):  y\n"
     ]
    },
    {
     "name": "stdout",
     "output_type": "stream",
     "text": [
      "\n",
      "Found 'LOUTRELAND' → Did you mean 'Ireland'? (confidence 71%)\n"
     ]
    },
    {
     "name": "stdin",
     "output_type": "stream",
     "text": [
      "Accept suggestion? (y/n):  n\n",
      "Enter the correct country:  \n"
     ]
    },
    {
     "name": "stdout",
     "output_type": "stream",
     "text": [
      "\n",
      "Found 'ff' → Did you mean 'Afghanistan'? (confidence 45%)\n"
     ]
    },
    {
     "name": "stdin",
     "output_type": "stream",
     "text": [
      "Accept suggestion? (y/n):  n\n",
      "Enter the correct country:  \n"
     ]
    },
    {
     "name": "stdout",
     "output_type": "stream",
     "text": [
      "\n",
      "Found 'Česká republika' → Did you mean 'Czech Republic'? (confidence 64%)\n"
     ]
    },
    {
     "name": "stdin",
     "output_type": "stream",
     "text": [
      "Accept suggestion? (y/n):  y\n"
     ]
    },
    {
     "name": "stdout",
     "output_type": "stream",
     "text": [
      "\n",
      "Found 'Italia' → Did you mean 'Australia'? (confidence 75%)\n"
     ]
    },
    {
     "name": "stdin",
     "output_type": "stream",
     "text": [
      "Accept suggestion? (y/n):  n\n",
      "Enter the correct country:  Italy\n"
     ]
    },
    {
     "name": "stdout",
     "output_type": "stream",
     "text": [
      "\n",
      "Found 'Hong KongKong' → Did you mean 'Congo'? (confidence 54%)\n"
     ]
    },
    {
     "name": "stdin",
     "output_type": "stream",
     "text": [
      "Accept suggestion? (y/n):  n\n",
      "Enter the correct country:  China\n"
     ]
    }
   ],
   "source": [
    "# Standard sovereign countries\n",
    "standard_countries = [\n",
    "    \"Afghanistan\",\"Argentina\",\"Australia\",\"Austria\",\"Bangladesh\",\"Belgium\",\"Bosnia and Herzegovina\",\n",
    "    \"Brazil\",\"Bulgaria\",\"Myanmar\",\"Cambodia\",\"Canada\",\"Chile\",\"China\",\"Colombia\",\"Congo\",\"Costa Rica\",\n",
    "    \"Côte d'Ivoire\",\"Croatia\",\"Cuba\",\"Cyprus\",\"Czech Republic\",\"Denmark\",\"Ecuador\",\"Egypt\",\"Eritrea\",\n",
    "    \"Estonia\",\"Finland\",\"France\",\"Germany\",\"Ghana\",\"Greece\",\"Hungary\",\"India\",\"Indonesia\",\"Ireland\",\n",
    "    \"Israel\",\"Italy\",\"Jamaica\",\"Japan\",\"Jordan\",\"Kenya\",\"Kuwait\",\"Latvia\",\"Liechtenstein\",\"Lithuania\",\n",
    "    \"Luxembourg\",\"Malaysia\",\"Malta\",\"Mexico\",\"Morocco\",\"Nigeria\",\"Netherlands\",\"New Zealand\",\"Norway\",\n",
    "    \"Pakistan\",\"Panama\",\"Philippines\",\"Poland\",\"Portugal\",\"Qatar\",\"Romania\",\"Russia\",\"Rwanda\",\n",
    "    \"Saudi Arabia\",\"Serbia\",\"Sierra Leone\",\"Singapore\",\"Slovakia\",\"Slovenia\",\"Somalia\",\"South Africa\",\n",
    "    \"South Korea\",\"Spain\",\"Sri Lanka\",\"Sweden\",\"Switzerland\",\"Taiwan\",\"Tanzania\",\"Thailand\",\"Turkey\",\n",
    "    \"Uganda\",\"Ukraine\",\"United Arab Emirates\",\"United Kingdom\",\"United States\",\"Uruguay\",\"Vietnam\",\"Zimbabwe\"\n",
    "]\n",
    "\n",
    "# Direct mapping for common messy variants (all lowercase keys)\n",
    "direct_map = {\n",
    "    \"usa\": \"United States\", \"us\": \"United States\", \"u.s.\": \"United States\",\n",
    "    \"u.s.a\": \"United States\", \"u.s.a.\": \"United States\",\n",
    "    \"united states of america\": \"United States\", \"united states\": \"United States\",\n",
    "    \"us of a\": \"United States\", \"america\": \"United States\",\n",
    "\n",
    "    \"uk\": \"United Kingdom\", \"u.k.\": \"United Kingdom\", \"u.k\": \"United Kingdom\",\n",
    "    \"england\": \"United Kingdom\", \"scotland\": \"United Kingdom\",\n",
    "    \"wales\": \"United Kingdom\", \"northern ireland\": \"United Kingdom\",\n",
    "\n",
    "    \"brasil\": \"Brazil\",\n",
    "    \"czechia\": \"Czech Republic\", \"czech republic\": \"Czech Republic\",\n",
    "    \"burma\": \"Myanmar\",\n",
    "    \"france\": \"France\",\n",
    "    \"new zealand aotearoa\": \"New Zealand\",\n",
    "    \"new zealand\": \"New Zealand\",\n",
    "}\n",
    "\n",
    "\n",
    "def clean_country_column(df, column, standard_countries, direct_map):\n",
    "    cleaned = []\n",
    "    standard_lower = {c.lower(): c for c in standard_countries}\n",
    "\n",
    "    for value in df[column]:\n",
    "        val_norm = str(value).strip().lower()\n",
    "\n",
    "        # Case 1: already in standard list\n",
    "        if val_norm in standard_lower:\n",
    "            resolved = standard_lower[val_norm]\n",
    "\n",
    "        # Case 2: direct mapping\n",
    "        elif val_norm in direct_map:\n",
    "            resolved = direct_map[val_norm]\n",
    "\n",
    "        # Case 3: fuzzy suggestion\n",
    "        else:\n",
    "            guess, score = process.extractOne(value, standard_countries)\n",
    "            print(f\"\\nFound '{value}' → Did you mean '{guess}'? (confidence {score}%)\")\n",
    "            choice = input(\"Accept suggestion? (y/n): \").strip().lower()\n",
    "\n",
    "            if choice == \"y\":\n",
    "                resolved = guess\n",
    "            else:\n",
    "                resolved = input(\"Enter the correct country: \").strip()\n",
    "\n",
    "            # Store permanently in direct_map\n",
    "            direct_map[val_norm] = resolved\n",
    "\n",
    "        cleaned.append(resolved)\n",
    "    \n",
    "    df[column + \"_cleaned\"] = cleaned\n",
    "    return df, direct_map\n",
    "\n",
    "\n",
    "# Run interactive cleaner\n",
    "df_cleaned, updated_map = clean_country_column(df, \"country\", standard_countries, direct_map)\n"
   ]
  },
  {
   "cell_type": "code",
   "execution_count": 32,
   "id": "08f1abbb-cd76-432e-af26-bf4726f581f5",
   "metadata": {},
   "outputs": [
    {
     "data": {
      "text/html": [
       "<div>\n",
       "<style scoped>\n",
       "    .dataframe tbody tr th:only-of-type {\n",
       "        vertical-align: middle;\n",
       "    }\n",
       "\n",
       "    .dataframe tbody tr th {\n",
       "        vertical-align: top;\n",
       "    }\n",
       "\n",
       "    .dataframe thead th {\n",
       "        text-align: right;\n",
       "    }\n",
       "</style>\n",
       "<table border=\"1\" class=\"dataframe\">\n",
       "  <thead>\n",
       "    <tr style=\"text-align: right;\">\n",
       "      <th></th>\n",
       "      <th>year</th>\n",
       "      <th>age</th>\n",
       "      <th>annual_salary</th>\n",
       "      <th>bonus</th>\n",
       "      <th>currency</th>\n",
       "      <th>country</th>\n",
       "      <th>years_working</th>\n",
       "      <th>years_in_your_field</th>\n",
       "      <th>education</th>\n",
       "      <th>gender</th>\n",
       "      <th>race</th>\n",
       "      <th>country_cleaned</th>\n",
       "    </tr>\n",
       "  </thead>\n",
       "  <tbody>\n",
       "    <tr>\n",
       "      <th>0</th>\n",
       "      <td>2021</td>\n",
       "      <td>25-34</td>\n",
       "      <td>55000</td>\n",
       "      <td>0</td>\n",
       "      <td>USD</td>\n",
       "      <td>United States</td>\n",
       "      <td>5-7</td>\n",
       "      <td>5-7</td>\n",
       "      <td>Master's degree</td>\n",
       "      <td>Woman</td>\n",
       "      <td>White</td>\n",
       "      <td>United States</td>\n",
       "    </tr>\n",
       "    <tr>\n",
       "      <th>1</th>\n",
       "      <td>2021</td>\n",
       "      <td>25-34</td>\n",
       "      <td>54600</td>\n",
       "      <td>4000</td>\n",
       "      <td>GBP</td>\n",
       "      <td>United Kingdom</td>\n",
       "      <td>8-10</td>\n",
       "      <td>5-7</td>\n",
       "      <td>College degree</td>\n",
       "      <td>Non-binary</td>\n",
       "      <td>White</td>\n",
       "      <td>United Kingdom</td>\n",
       "    </tr>\n",
       "    <tr>\n",
       "      <th>2</th>\n",
       "      <td>2021</td>\n",
       "      <td>25-34</td>\n",
       "      <td>34000</td>\n",
       "      <td>0</td>\n",
       "      <td>USD</td>\n",
       "      <td>US</td>\n",
       "      <td>2-4</td>\n",
       "      <td>2-4</td>\n",
       "      <td>College degree</td>\n",
       "      <td>Woman</td>\n",
       "      <td>White</td>\n",
       "      <td>United States</td>\n",
       "    </tr>\n",
       "    <tr>\n",
       "      <th>3</th>\n",
       "      <td>2021</td>\n",
       "      <td>25-34</td>\n",
       "      <td>62000</td>\n",
       "      <td>3000</td>\n",
       "      <td>USD</td>\n",
       "      <td>USA</td>\n",
       "      <td>8-10</td>\n",
       "      <td>5-7</td>\n",
       "      <td>College degree</td>\n",
       "      <td>Woman</td>\n",
       "      <td>White</td>\n",
       "      <td>United States</td>\n",
       "    </tr>\n",
       "    <tr>\n",
       "      <th>4</th>\n",
       "      <td>2021</td>\n",
       "      <td>25-34</td>\n",
       "      <td>60000</td>\n",
       "      <td>7000</td>\n",
       "      <td>USD</td>\n",
       "      <td>US</td>\n",
       "      <td>8-10</td>\n",
       "      <td>5-7</td>\n",
       "      <td>College degree</td>\n",
       "      <td>Woman</td>\n",
       "      <td>White</td>\n",
       "      <td>United States</td>\n",
       "    </tr>\n",
       "  </tbody>\n",
       "</table>\n",
       "</div>"
      ],
      "text/plain": [
       "   year    age  annual_salary  bonus currency         country years_working  \\\n",
       "0  2021  25-34          55000      0      USD   United States           5-7   \n",
       "1  2021  25-34          54600   4000      GBP  United Kingdom          8-10   \n",
       "2  2021  25-34          34000      0      USD              US           2-4   \n",
       "3  2021  25-34          62000   3000      USD             USA          8-10   \n",
       "4  2021  25-34          60000   7000      USD              US          8-10   \n",
       "\n",
       "  years_in_your_field        education      gender   race country_cleaned  \n",
       "0                 5-7  Master's degree       Woman  White   United States  \n",
       "1                 5-7   College degree  Non-binary  White  United Kingdom  \n",
       "2                 2-4   College degree       Woman  White   United States  \n",
       "3                 5-7   College degree       Woman  White   United States  \n",
       "4                 5-7   College degree       Woman  White   United States  "
      ]
     },
     "execution_count": 32,
     "metadata": {},
     "output_type": "execute_result"
    }
   ],
   "source": [
    "df.head()"
   ]
  },
  {
   "cell_type": "code",
   "execution_count": 33,
   "id": "21c3fb33-30f0-414a-bc5a-c119e1eadcb4",
   "metadata": {},
   "outputs": [
    {
     "data": {
      "text/html": [
       "<div>\n",
       "<style scoped>\n",
       "    .dataframe tbody tr th:only-of-type {\n",
       "        vertical-align: middle;\n",
       "    }\n",
       "\n",
       "    .dataframe tbody tr th {\n",
       "        vertical-align: top;\n",
       "    }\n",
       "\n",
       "    .dataframe thead th {\n",
       "        text-align: right;\n",
       "    }\n",
       "</style>\n",
       "<table border=\"1\" class=\"dataframe\">\n",
       "  <thead>\n",
       "    <tr style=\"text-align: right;\">\n",
       "      <th></th>\n",
       "      <th>year</th>\n",
       "      <th>age</th>\n",
       "      <th>annual_salary</th>\n",
       "      <th>bonus</th>\n",
       "      <th>currency</th>\n",
       "      <th>country_cleaned</th>\n",
       "      <th>years_working</th>\n",
       "      <th>years_in_your_field</th>\n",
       "      <th>education</th>\n",
       "      <th>gender</th>\n",
       "      <th>race</th>\n",
       "    </tr>\n",
       "  </thead>\n",
       "  <tbody>\n",
       "    <tr>\n",
       "      <th>0</th>\n",
       "      <td>2021</td>\n",
       "      <td>25-34</td>\n",
       "      <td>55000</td>\n",
       "      <td>0</td>\n",
       "      <td>USD</td>\n",
       "      <td>United States</td>\n",
       "      <td>5-7</td>\n",
       "      <td>5-7</td>\n",
       "      <td>Master's degree</td>\n",
       "      <td>Woman</td>\n",
       "      <td>White</td>\n",
       "    </tr>\n",
       "    <tr>\n",
       "      <th>1</th>\n",
       "      <td>2021</td>\n",
       "      <td>25-34</td>\n",
       "      <td>54600</td>\n",
       "      <td>4000</td>\n",
       "      <td>GBP</td>\n",
       "      <td>United Kingdom</td>\n",
       "      <td>8-10</td>\n",
       "      <td>5-7</td>\n",
       "      <td>College degree</td>\n",
       "      <td>Non-binary</td>\n",
       "      <td>White</td>\n",
       "    </tr>\n",
       "    <tr>\n",
       "      <th>2</th>\n",
       "      <td>2021</td>\n",
       "      <td>25-34</td>\n",
       "      <td>34000</td>\n",
       "      <td>0</td>\n",
       "      <td>USD</td>\n",
       "      <td>United States</td>\n",
       "      <td>2-4</td>\n",
       "      <td>2-4</td>\n",
       "      <td>College degree</td>\n",
       "      <td>Woman</td>\n",
       "      <td>White</td>\n",
       "    </tr>\n",
       "    <tr>\n",
       "      <th>3</th>\n",
       "      <td>2021</td>\n",
       "      <td>25-34</td>\n",
       "      <td>62000</td>\n",
       "      <td>3000</td>\n",
       "      <td>USD</td>\n",
       "      <td>United States</td>\n",
       "      <td>8-10</td>\n",
       "      <td>5-7</td>\n",
       "      <td>College degree</td>\n",
       "      <td>Woman</td>\n",
       "      <td>White</td>\n",
       "    </tr>\n",
       "    <tr>\n",
       "      <th>4</th>\n",
       "      <td>2021</td>\n",
       "      <td>25-34</td>\n",
       "      <td>60000</td>\n",
       "      <td>7000</td>\n",
       "      <td>USD</td>\n",
       "      <td>United States</td>\n",
       "      <td>8-10</td>\n",
       "      <td>5-7</td>\n",
       "      <td>College degree</td>\n",
       "      <td>Woman</td>\n",
       "      <td>White</td>\n",
       "    </tr>\n",
       "    <tr>\n",
       "      <th>...</th>\n",
       "      <td>...</td>\n",
       "      <td>...</td>\n",
       "      <td>...</td>\n",
       "      <td>...</td>\n",
       "      <td>...</td>\n",
       "      <td>...</td>\n",
       "      <td>...</td>\n",
       "      <td>...</td>\n",
       "      <td>...</td>\n",
       "      <td>...</td>\n",
       "      <td>...</td>\n",
       "    </tr>\n",
       "    <tr>\n",
       "      <th>28144</th>\n",
       "      <td>2025</td>\n",
       "      <td>25-34</td>\n",
       "      <td>19200</td>\n",
       "      <td>10200</td>\n",
       "      <td>Other</td>\n",
       "      <td>Thailand</td>\n",
       "      <td>2-4</td>\n",
       "      <td>1 year or less</td>\n",
       "      <td>College degree</td>\n",
       "      <td>Woman</td>\n",
       "      <td>Asian or Asian American</td>\n",
       "    </tr>\n",
       "    <tr>\n",
       "      <th>28145</th>\n",
       "      <td>2025</td>\n",
       "      <td>25-34</td>\n",
       "      <td>25000</td>\n",
       "      <td>0</td>\n",
       "      <td>GBP</td>\n",
       "      <td>United Kingdom</td>\n",
       "      <td>2-4</td>\n",
       "      <td>2-4</td>\n",
       "      <td>College degree</td>\n",
       "      <td>Man</td>\n",
       "      <td>Another option not listed here or prefer not t...</td>\n",
       "    </tr>\n",
       "    <tr>\n",
       "      <th>28146</th>\n",
       "      <td>2025</td>\n",
       "      <td>18-24</td>\n",
       "      <td>8000</td>\n",
       "      <td>0</td>\n",
       "      <td>USD</td>\n",
       "      <td>United States</td>\n",
       "      <td>2-4</td>\n",
       "      <td>1 year or less</td>\n",
       "      <td>High School</td>\n",
       "      <td>Woman</td>\n",
       "      <td>White</td>\n",
       "    </tr>\n",
       "    <tr>\n",
       "      <th>28147</th>\n",
       "      <td>2025</td>\n",
       "      <td>25-34</td>\n",
       "      <td>1000000</td>\n",
       "      <td>30000</td>\n",
       "      <td>USD</td>\n",
       "      <td>India</td>\n",
       "      <td>5-7</td>\n",
       "      <td>5-7</td>\n",
       "      <td>College degree</td>\n",
       "      <td>Man</td>\n",
       "      <td>Asian or Asian American</td>\n",
       "    </tr>\n",
       "    <tr>\n",
       "      <th>28148</th>\n",
       "      <td>2025</td>\n",
       "      <td>25-34</td>\n",
       "      <td>75000</td>\n",
       "      <td>0</td>\n",
       "      <td>USD</td>\n",
       "      <td>United Kingdom</td>\n",
       "      <td>5-7</td>\n",
       "      <td>2-4</td>\n",
       "      <td>Professional degree (MD, JD, etc.)</td>\n",
       "      <td>Man</td>\n",
       "      <td>Black or African American</td>\n",
       "    </tr>\n",
       "  </tbody>\n",
       "</table>\n",
       "<p>28149 rows × 11 columns</p>\n",
       "</div>"
      ],
      "text/plain": [
       "       year    age  annual_salary  bonus currency country_cleaned  \\\n",
       "0      2021  25-34          55000      0      USD   United States   \n",
       "1      2021  25-34          54600   4000      GBP  United Kingdom   \n",
       "2      2021  25-34          34000      0      USD   United States   \n",
       "3      2021  25-34          62000   3000      USD   United States   \n",
       "4      2021  25-34          60000   7000      USD   United States   \n",
       "...     ...    ...            ...    ...      ...             ...   \n",
       "28144  2025  25-34          19200  10200    Other        Thailand   \n",
       "28145  2025  25-34          25000      0      GBP  United Kingdom   \n",
       "28146  2025  18-24           8000      0      USD   United States   \n",
       "28147  2025  25-34        1000000  30000      USD           India   \n",
       "28148  2025  25-34          75000      0      USD  United Kingdom   \n",
       "\n",
       "      years_working years_in_your_field                           education  \\\n",
       "0               5-7                 5-7                     Master's degree   \n",
       "1              8-10                 5-7                      College degree   \n",
       "2               2-4                 2-4                      College degree   \n",
       "3              8-10                 5-7                      College degree   \n",
       "4              8-10                 5-7                      College degree   \n",
       "...             ...                 ...                                 ...   \n",
       "28144           2-4      1 year or less                      College degree   \n",
       "28145           2-4                 2-4                      College degree   \n",
       "28146           2-4      1 year or less                         High School   \n",
       "28147           5-7                 5-7                      College degree   \n",
       "28148           5-7                 2-4  Professional degree (MD, JD, etc.)   \n",
       "\n",
       "           gender                                               race  \n",
       "0           Woman                                              White  \n",
       "1      Non-binary                                              White  \n",
       "2           Woman                                              White  \n",
       "3           Woman                                              White  \n",
       "4           Woman                                              White  \n",
       "...           ...                                                ...  \n",
       "28144       Woman                            Asian or Asian American  \n",
       "28145         Man  Another option not listed here or prefer not t...  \n",
       "28146       Woman                                              White  \n",
       "28147         Man                            Asian or Asian American  \n",
       "28148         Man                          Black or African American  \n",
       "\n",
       "[28149 rows x 11 columns]"
      ]
     },
     "execution_count": 33,
     "metadata": {},
     "output_type": "execute_result"
    }
   ],
   "source": [
    "df=df[['year','age','annual_salary','bonus','currency','country_cleaned','years_working','years_in_your_field','education','gender','race']]\n",
    "df"
   ]
  },
  {
   "cell_type": "code",
   "execution_count": 34,
   "id": "f3aa94df-39f5-4bc2-a4cd-3607e686410b",
   "metadata": {},
   "outputs": [
    {
     "name": "stdout",
     "output_type": "stream",
     "text": [
      "<class 'pandas.core.frame.DataFrame'>\n",
      "RangeIndex: 28149 entries, 0 to 28148\n",
      "Data columns (total 11 columns):\n",
      " #   Column               Non-Null Count  Dtype \n",
      "---  ------               --------------  ----- \n",
      " 0   year                 28149 non-null  Int64 \n",
      " 1   age                  28149 non-null  object\n",
      " 2   annual_salary        28149 non-null  int64 \n",
      " 3   bonus                28149 non-null  int64 \n",
      " 4   currency             28149 non-null  object\n",
      " 5   country_cleaned      28149 non-null  object\n",
      " 6   years_working        28149 non-null  object\n",
      " 7   years_in_your_field  28149 non-null  object\n",
      " 8   education            27921 non-null  object\n",
      " 9   gender               27975 non-null  object\n",
      " 10  race                 27966 non-null  object\n",
      "dtypes: Int64(1), int64(2), object(8)\n",
      "memory usage: 2.4+ MB\n"
     ]
    }
   ],
   "source": [
    "df.info()"
   ]
  },
  {
   "cell_type": "code",
   "execution_count": null,
   "id": "bccd9a70-4c0d-431f-9957-32130822b12e",
   "metadata": {},
   "outputs": [],
   "source": []
  }
 ],
 "metadata": {
  "kernelspec": {
   "display_name": "anaconda-panel-2023.05-py310",
   "language": "python",
   "name": "conda-env-anaconda-panel-2023.05-py310-py"
  },
  "language_info": {
   "codemirror_mode": {
    "name": "ipython",
    "version": 3
   },
   "file_extension": ".py",
   "mimetype": "text/x-python",
   "name": "python",
   "nbconvert_exporter": "python",
   "pygments_lexer": "ipython3",
   "version": "3.11.5"
  }
 },
 "nbformat": 4,
 "nbformat_minor": 5
}
